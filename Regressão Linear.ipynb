{
 "cells": [
  {
   "cell_type": "code",
   "execution_count": 1,
   "id": "cae94ead",
   "metadata": {},
   "outputs": [],
   "source": [
    "import pandas as pd \n",
    "import numpy as np \n",
    "import matplotlib.pyplot as plt \n",
    "%matplotlib inline\n",
    "import warnings\n",
    "warnings.simplefilter(action='ignore', category=FutureWarning)"
   ]
  },
  {
   "cell_type": "code",
   "execution_count": 2,
   "id": "9ea307fe",
   "metadata": {},
   "outputs": [
    {
     "data": {
      "text/html": [
       "<div>\n",
       "<style scoped>\n",
       "    .dataframe tbody tr th:only-of-type {\n",
       "        vertical-align: middle;\n",
       "    }\n",
       "\n",
       "    .dataframe tbody tr th {\n",
       "        vertical-align: top;\n",
       "    }\n",
       "\n",
       "    .dataframe thead th {\n",
       "        text-align: right;\n",
       "    }\n",
       "</style>\n",
       "<table border=\"1\" class=\"dataframe\">\n",
       "  <thead>\n",
       "    <tr style=\"text-align: right;\">\n",
       "      <th></th>\n",
       "      <th>Ano</th>\n",
       "      <th>Quinzena</th>\n",
       "      <th>Cotacao</th>\n",
       "      <th>Inflacao</th>\n",
       "      <th>Volatilidade</th>\n",
       "      <th>Volume</th>\n",
       "    </tr>\n",
       "  </thead>\n",
       "  <tbody>\n",
       "    <tr>\n",
       "      <th>0</th>\n",
       "      <td>2009</td>\n",
       "      <td>6</td>\n",
       "      <td>2.90</td>\n",
       "      <td>4.23</td>\n",
       "      <td>4.50</td>\n",
       "      <td>2040</td>\n",
       "    </tr>\n",
       "    <tr>\n",
       "      <th>1</th>\n",
       "      <td>2008</td>\n",
       "      <td>28</td>\n",
       "      <td>1.80</td>\n",
       "      <td>3.40</td>\n",
       "      <td>3.20</td>\n",
       "      <td>2455</td>\n",
       "    </tr>\n",
       "    <tr>\n",
       "      <th>2</th>\n",
       "      <td>2007</td>\n",
       "      <td>16</td>\n",
       "      <td>1.90</td>\n",
       "      <td>3.00</td>\n",
       "      <td>3.20</td>\n",
       "      <td>1532</td>\n",
       "    </tr>\n",
       "    <tr>\n",
       "      <th>3</th>\n",
       "      <td>2016</td>\n",
       "      <td>27</td>\n",
       "      <td>2.37</td>\n",
       "      <td>2.77</td>\n",
       "      <td>3.97</td>\n",
       "      <td>2482</td>\n",
       "    </tr>\n",
       "    <tr>\n",
       "      <th>4</th>\n",
       "      <td>2006</td>\n",
       "      <td>26</td>\n",
       "      <td>3.10</td>\n",
       "      <td>4.18</td>\n",
       "      <td>3.90</td>\n",
       "      <td>3600</td>\n",
       "    </tr>\n",
       "    <tr>\n",
       "      <th>5</th>\n",
       "      <td>2009</td>\n",
       "      <td>20</td>\n",
       "      <td>3.20</td>\n",
       "      <td>3.98</td>\n",
       "      <td>5.00</td>\n",
       "      <td>4459</td>\n",
       "    </tr>\n",
       "    <tr>\n",
       "      <th>6</th>\n",
       "      <td>2006</td>\n",
       "      <td>27</td>\n",
       "      <td>3.50</td>\n",
       "      <td>4.28</td>\n",
       "      <td>4.90</td>\n",
       "      <td>3955</td>\n",
       "    </tr>\n",
       "    <tr>\n",
       "      <th>7</th>\n",
       "      <td>2010</td>\n",
       "      <td>5</td>\n",
       "      <td>3.10</td>\n",
       "      <td>4.55</td>\n",
       "      <td>3.80</td>\n",
       "      <td>3556</td>\n",
       "    </tr>\n",
       "    <tr>\n",
       "      <th>8</th>\n",
       "      <td>2013</td>\n",
       "      <td>23</td>\n",
       "      <td>3.28</td>\n",
       "      <td>5.03</td>\n",
       "      <td>4.38</td>\n",
       "      <td>3613</td>\n",
       "    </tr>\n",
       "    <tr>\n",
       "      <th>9</th>\n",
       "      <td>2010</td>\n",
       "      <td>3</td>\n",
       "      <td>2.60</td>\n",
       "      <td>3.25</td>\n",
       "      <td>3.80</td>\n",
       "      <td>2756</td>\n",
       "    </tr>\n",
       "  </tbody>\n",
       "</table>\n",
       "</div>"
      ],
      "text/plain": [
       "    Ano  Quinzena  Cotacao  Inflacao  Volatilidade  Volume\n",
       "0  2009         6     2.90      4.23          4.50    2040\n",
       "1  2008        28     1.80      3.40          3.20    2455\n",
       "2  2007        16     1.90      3.00          3.20    1532\n",
       "3  2016        27     2.37      2.77          3.97    2482\n",
       "4  2006        26     3.10      4.18          3.90    3600\n",
       "5  2009        20     3.20      3.98          5.00    4459\n",
       "6  2006        27     3.50      4.28          4.90    3955\n",
       "7  2010         5     3.10      4.55          3.80    3556\n",
       "8  2013        23     3.28      5.03          4.38    3613\n",
       "9  2010         3     2.60      3.25          3.80    2756"
      ]
     },
     "execution_count": 2,
     "metadata": {},
     "output_type": "execute_result"
    }
   ],
   "source": [
    "df = pd.read_csv(r'C:\\Users\\jpreg\\Desktop\\Agenda-Guia\\2021.1\\Bibliografia 2021.1\\IA\\Arquivos-20210826T114338Z-001\\Arquivos\\Ibovespa.csv')\n",
    "df.head(10)"
   ]
  },
  {
   "cell_type": "code",
   "execution_count": 3,
   "id": "f50feedb",
   "metadata": {},
   "outputs": [
    {
     "data": {
      "image/png": "[encoded data removed]",
      "text/plain": [
       "<Figure size 432x288 with 1 Axes>"
      ]
     },
     "metadata": {
      "needs_background": "light"
     },
     "output_type": "display_data"
    }
   ],
   "source": [
    "df.plot(x='Inflacao', y='Cotacao', style='o')  \n",
    "plt.title('Inflacao vs Cotacao')  \n",
    "plt.xlabel('Inflacao')  \n",
    "plt.ylabel('Cotacao')  \n",
    "plt.show()"
   ]
  },
  {
   "cell_type": "code",
   "execution_count": 4,
   "id": "cc11d688",
   "metadata": {},
   "outputs": [],
   "source": [
    "df = df.drop(['Ano','Quinzena'], axis=1)\n",
    "X = df.drop('Cotacao', axis=1)\n",
    "y = df[['Cotacao']]\n",
    "X1 = X.drop('Volume', axis=1)\n",
    "X1 = X1. drop('Volatilidade', axis=1)"
   ]
  },
  {
   "cell_type": "code",
   "execution_count": 5,
   "id": "0bc300f0",
   "metadata": {},
   "outputs": [],
   "source": [
    "from sklearn.model_selection import train_test_split \n",
    "x_train, x_test, y_train, y_test = train_test_split(X1, y, test_size=0.2, random_state=0) "
   ]
  },
  {
   "cell_type": "code",
   "execution_count": 6,
   "id": "cf258b93",
   "metadata": {},
   "outputs": [
    {
     "name": "stdout",
     "output_type": "stream",
     "text": [
      "[-0.18259269]\n",
      "[[0.74900624]]\n"
     ]
    }
   ],
   "source": [
    "from sklearn.linear_model import LinearRegression \n",
    "regressao = LinearRegression() \n",
    "regressao.fit(x_train, y_train)\n",
    "\n",
    "print(regressao.intercept_) \n",
    "print(regressao.coef_) \n"
   ]
  },
  {
   "cell_type": "code",
   "execution_count": 7,
   "id": "b94b3806",
   "metadata": {},
   "outputs": [],
   "source": [
    "df.to_csv(r'C:\\Users\\jpreg\\Desktop\\Agenda-Guia\\2021.1\\Bibliografia 2021.1\\IA\\Arquivos-20210826T114338Z-001\\Arquivos\\IbovespaSalvo.csv')\n"
   ]
  },
  {
   "cell_type": "code",
   "execution_count": 8,
   "id": "c9efcaee",
   "metadata": {},
   "outputs": [
    {
     "data": {
      "image/png": "[encoded data removed]",
      "text/plain": [
       "<Figure size 432x288 with 1 Axes>"
      ]
     },
     "metadata": {},
     "output_type": "display_data"
    }
   ],
   "source": [
    "y_pred = regressao.predict(X[['Inflacao']])\n",
    "\n",
    "df.plot(x='Inflacao', y='Cotacao', style='o')  \n",
    "plt.title('Inflacao vs Cotacao')  \n",
    "plt.xlabel('Inflacao')  \n",
    "plt.ylabel('Cotacao')  \n",
    "\n",
    "plt.plot(X[['Inflacao']], y_pred, color='red', linewidth=3)\n",
    "\n",
    "plt.xticks(())\n",
    "plt.yticks(())\n",
    "\n",
    "plt.show()"
   ]
  },
  {
   "cell_type": "code",
   "execution_count": 9,
   "id": "7b40f54d",
   "metadata": {},
   "outputs": [
    {
     "name": "stdout",
     "output_type": "stream",
     "text": [
      "[[0.0]] [[-0.18259269]]\n"
     ]
    }
   ],
   "source": [
    "x_uso = [[0.0]]\n",
    "y_uso = regressao.predict(x_uso)\n",
    "print(x_uso,y_uso)"
   ]
  },
  {
   "cell_type": "code",
   "execution_count": 10,
   "id": "5a54cd80",
   "metadata": {},
   "outputs": [
    {
     "name": "stdout",
     "output_type": "stream",
     "text": [
      "[[6.0]] [[4.31144473]]\n"
     ]
    }
   ],
   "source": [
    "x_uso = [[6.0]]\n",
    "y_uso = regressao.predict(x_uso)\n",
    "print(x_uso,y_uso)"
   ]
  },
  {
   "cell_type": "code",
   "execution_count": 11,
   "id": "6bea2f5c",
   "metadata": {},
   "outputs": [
    {
     "data": {
      "text/html": [
       "<div>\n",
       "<style scoped>\n",
       "    .dataframe tbody tr th:only-of-type {\n",
       "        vertical-align: middle;\n",
       "    }\n",
       "\n",
       "    .dataframe tbody tr th {\n",
       "        vertical-align: top;\n",
       "    }\n",
       "\n",
       "    .dataframe thead th {\n",
       "        text-align: right;\n",
       "    }\n",
       "</style>\n",
       "<table border=\"1\" class=\"dataframe\">\n",
       "  <thead>\n",
       "    <tr style=\"text-align: right;\">\n",
       "      <th></th>\n",
       "      <th>Atual</th>\n",
       "      <th>Previsto</th>\n",
       "    </tr>\n",
       "  </thead>\n",
       "  <tbody>\n",
       "    <tr>\n",
       "      <th>0</th>\n",
       "      <td>2.70</td>\n",
       "      <td>2.948253</td>\n",
       "    </tr>\n",
       "    <tr>\n",
       "      <th>1</th>\n",
       "      <td>2.40</td>\n",
       "      <td>2.723552</td>\n",
       "    </tr>\n",
       "    <tr>\n",
       "      <th>2</th>\n",
       "      <td>3.23</td>\n",
       "      <td>2.648651</td>\n",
       "    </tr>\n",
       "    <tr>\n",
       "      <th>3</th>\n",
       "      <td>2.45</td>\n",
       "      <td>3.000684</td>\n",
       "    </tr>\n",
       "    <tr>\n",
       "      <th>4</th>\n",
       "      <td>2.50</td>\n",
       "      <td>1.974545</td>\n",
       "    </tr>\n",
       "    <tr>\n",
       "      <th>...</th>\n",
       "      <td>...</td>\n",
       "      <td>...</td>\n",
       "    </tr>\n",
       "    <tr>\n",
       "      <th>75</th>\n",
       "      <td>2.20</td>\n",
       "      <td>1.989525</td>\n",
       "    </tr>\n",
       "    <tr>\n",
       "      <th>76</th>\n",
       "      <td>2.08</td>\n",
       "      <td>2.236697</td>\n",
       "    </tr>\n",
       "    <tr>\n",
       "      <th>77</th>\n",
       "      <td>3.60</td>\n",
       "      <td>3.412637</td>\n",
       "    </tr>\n",
       "    <tr>\n",
       "      <th>78</th>\n",
       "      <td>2.42</td>\n",
       "      <td>2.678611</td>\n",
       "    </tr>\n",
       "    <tr>\n",
       "      <th>79</th>\n",
       "      <td>2.50</td>\n",
       "      <td>2.461399</td>\n",
       "    </tr>\n",
       "  </tbody>\n",
       "</table>\n",
       "<p>80 rows × 2 columns</p>\n",
       "</div>"
      ],
      "text/plain": [
       "    Atual  Previsto\n",
       "0    2.70  2.948253\n",
       "1    2.40  2.723552\n",
       "2    3.23  2.648651\n",
       "3    2.45  3.000684\n",
       "4    2.50  1.974545\n",
       "..    ...       ...\n",
       "75   2.20  1.989525\n",
       "76   2.08  2.236697\n",
       "77   3.60  3.412637\n",
       "78   2.42  2.678611\n",
       "79   2.50  2.461399\n",
       "\n",
       "[80 rows x 2 columns]"
      ]
     },
     "execution_count": 11,
     "metadata": {},
     "output_type": "execute_result"
    }
   ],
   "source": [
    "y_pred_test = regressao.predict(x_test)\n",
    "df2 = pd.DataFrame({'Atual': y_test.values.flat, 'Previsto': y_pred_test.flat})  \n",
    "df2"
   ]
  },
  {
   "cell_type": "code",
   "execution_count": 16,
   "id": "4e795919",
   "metadata": {},
   "outputs": [],
   "source": [
    "import joblib\n",
    "\n",
    "# Salvar o modelo no diretorio corrente\n",
    "regressao_salva = \"regressao.pkl\"  \n",
    "joblib.dump(regressao, regressao_salva)\n",
    "\n",
    "# Ler do Arquivo salvo\n",
    "regressao3 = joblib.load(regressao_salva)"
   ]
  },
  {
   "cell_type": "code",
   "execution_count": 17,
   "id": "fd933f78",
   "metadata": {},
   "outputs": [
    {
     "name": "stdout",
     "output_type": "stream",
     "text": [
      "Acuracia: 80.38 %\n",
      "     Inflacao\n",
      "65       4.18\n",
      "132      3.88\n",
      "74       3.78\n",
      "78       4.25\n",
      "37       2.88\n",
      "..        ...\n",
      "269      2.90\n",
      "235      3.23\n",
      "145      4.80\n",
      "196      3.82\n",
      "124      3.53\n",
      "\n",
      "[80 rows x 1 columns]\n",
      "[[2.94825338]\n",
      " [2.72355151]\n",
      " [2.64865088]\n",
      " [3.00068382]\n",
      " [1.97454527]\n",
      " [3.262836  ]\n",
      " [1.75733346]\n",
      " [2.85088257]\n",
      " [3.28530619]\n",
      " [1.0532676 ]\n",
      " [1.41279059]\n",
      " [1.46522103]\n",
      " [2.81343226]\n",
      " [2.46139932]\n",
      " [2.6861012 ]\n",
      " [2.46888939]\n",
      " [2.43892914]\n",
      " [1.60004215]\n",
      " [2.76849188]\n",
      " [2.12434652]\n",
      " [2.53629995]\n",
      " [2.81343226]\n",
      " [3.11303475]\n",
      " [2.55877014]\n",
      " [1.54012165]\n",
      " [1.22553903]\n",
      " [1.9895254 ]\n",
      " [1.54012165]\n",
      " [1.50267134]\n",
      " [3.00068382]\n",
      " [1.76482352]\n",
      " [1.91462477]\n",
      " [2.40147883]\n",
      " [1.83972415]\n",
      " [1.18808872]\n",
      " [3.15048506]\n",
      " [1.82474402]\n",
      " [1.41279059]\n",
      " [2.02697571]\n",
      " [2.57375026]\n",
      " [3.023154  ]\n",
      " [2.36402851]\n",
      " [1.89964465]\n",
      " [1.93709496]\n",
      " [1.33788997]\n",
      " [2.23669745]\n",
      " [2.73853163]\n",
      " [2.64865088]\n",
      " [3.00068382]\n",
      " [2.79845213]\n",
      " [2.02697571]\n",
      " [2.12434652]\n",
      " [1.9895254 ]\n",
      " [3.42012731]\n",
      " [3.023154  ]\n",
      " [3.30777637]\n",
      " [3.03813413]\n",
      " [1.50267134]\n",
      " [1.41279059]\n",
      " [2.94825338]\n",
      " [2.87335276]\n",
      " [2.73104157]\n",
      " [3.18793538]\n",
      " [1.65247259]\n",
      " [2.06442602]\n",
      " [2.6861012 ]\n",
      " [2.79845213]\n",
      " [2.25167758]\n",
      " [2.85088257]\n",
      " [3.22538569]\n",
      " [1.24051916]\n",
      " [2.6861012 ]\n",
      " [2.9632335 ]\n",
      " [2.53629995]\n",
      " [4.05678261]\n",
      " [1.9895254 ]\n",
      " [2.23669745]\n",
      " [3.41263725]\n",
      " [2.67861113]\n",
      " [2.46139932]]\n"
     ]
    }
   ],
   "source": [
    "# Calculo da Acurácia e as predições\n",
    "score = regressao3.score(x_test, y_test)  \n",
    "print(\"Acuracia: {0:.2f} %\".format(100 * score))  \n",
    "y_pred2 = regressao3.predict(x_test) \n",
    "print (x_test)\n",
    "print (y_pred2)"
   ]
  },
  {
   "cell_type": "code",
   "execution_count": 18,
   "id": "cd1c9a61",
   "metadata": {},
   "outputs": [
    {
     "name": "stdout",
     "output_type": "stream",
     "text": [
      "Erro Medio Absoluto: 0.2525422302115111\n",
      "Erro Medio Quadratico: 0.10022309804428113\n",
      "Erro Medio Raiz Quadratica: 0.31658031847270784\n"
     ]
    }
   ],
   "source": [
    "from sklearn import metrics  \n",
    "print('Erro Medio Absoluto:', metrics.mean_absolute_error(y_test, y_pred_test))  \n",
    "print('Erro Medio Quadratico:', metrics.mean_squared_error(y_test, y_pred_test))  \n",
    "print('Erro Medio Raiz Quadratica:', np.sqrt(metrics.mean_squared_error(y_test, y_pred_test))) "
   ]
  },
  {
   "cell_type": "code",
   "execution_count": 19,
   "id": "63c8c081",
   "metadata": {},
   "outputs": [
    {
     "name": "stdout",
     "output_type": "stream",
     "text": [
      "Erro Medio Absoluto: 0.17684303958402503\n",
      "Erro Medio Quadratico: 0.04788906137673575\n",
      "Erro Medio Raiz Quadratica: 0.21883569493283253\n"
     ]
    }
   ],
   "source": [
    "x_train, x_test, y_train, y_test = train_test_split(df, y, test_size=0.2, random_state=0) \n",
    "\n",
    "regressao2 = LinearRegression()\n",
    "regressao2.fit(x_train[['Inflacao', 'Volatilidade', 'Volume']], y_train) \n",
    "y_pred_test2 = regressao2.predict(x_test[['Inflacao', 'Volatilidade', 'Volume']])\n",
    "\n",
    "print('Erro Medio Absoluto:', metrics.mean_absolute_error(y_test, y_pred_test2))  \n",
    "print('Erro Medio Quadratico:', metrics.mean_squared_error(y_test, y_pred_test2))  \n",
    "print('Erro Medio Raiz Quadratica:', np.sqrt(metrics.mean_squared_error(y_test, y_pred_test2)))"
   ]
  },
  {
   "cell_type": "code",
   "execution_count": 20,
   "id": "a081d54d",
   "metadata": {},
   "outputs": [],
   "source": [
    "import numpy as np\n",
    "import matplotlib.pyplot as plt\n",
    "import seaborn as sns\n",
    "sns.set_style('whitegrid')\n",
    "%matplotlib inline\n",
    "\n",
    "import pandas as pd\n",
    "from sklearn.linear_model import LinearRegression\n",
    "from sklearn.metrics import r2_score"
   ]
  },
  {
   "cell_type": "code",
   "execution_count": 21,
   "id": "9d2cf4ef",
   "metadata": {},
   "outputs": [
    {
     "name": "stdout",
     "output_type": "stream",
     "text": [
      "0.6921924922992171\n"
     ]
    },
    {
     "data": {
      "image/png": "[encoded data removed]",
      "text/plain": [
       "<Figure size 720x576 with 1 Axes>"
      ]
     },
     "metadata": {
      "needs_background": "light"
     },
     "output_type": "display_data"
    },
    {
     "data": {
      "image/png": "[encoded data removed]",
      "text/plain": [
       "<Figure size 720x576 with 1 Axes>"
      ]
     },
     "metadata": {
      "needs_background": "light"
     },
     "output_type": "display_data"
    }
   ],
   "source": [
    "n_samples = 100\n",
    "X = np.linspace(0, 10, 100)\n",
    "y = X ** 3 + np.random.randn(n_samples) * 100 + 100\n",
    "plt.figure(figsize=(10,8))\n",
    "plt.scatter(X, y)\n",
    "\n",
    "lin_reg = LinearRegression()\n",
    "lin_reg.fit(X.reshape(-1, 1), y)\n",
    "model_pred = lin_reg.predict(X.reshape(-1,1))\n",
    "plt.figure(figsize=(10,8));\n",
    "plt.scatter(X, y);\n",
    "plt.plot(X, model_pred);\n",
    "print(r2_score(y, model_pred))"
   ]
  },
  {
   "cell_type": "code",
   "execution_count": 32,
   "id": "afe0fca1",
   "metadata": {},
   "outputs": [
    {
     "name": "stdout",
     "output_type": "stream",
     "text": [
      "0.8725693341929421\n"
     ]
    },
    {
     "data": {
      "image/png": "[encoded data removed]",
      "text/plain": [
       "<Figure size 720x576 with 1 Axes>"
      ]
     },
     "metadata": {
      "needs_background": "light"
     },
     "output_type": "display_data"
    }
   ],
   "source": [
    "from sklearn.preprocessing import PolynomialFeatures\n",
    "poly_reg = PolynomialFeatures(degree=2)\n",
    "X_poly = poly_reg.fit_transform(X.reshape(-1, 1))\n",
    "lin_reg_2 = LinearRegression()\n",
    "\n",
    "lin_reg_2.fit(X_poly, y.reshape(-1, 1))\n",
    "y_pred = lin_reg_2.predict(X_poly)\n",
    "plt.figure(figsize=(10,8));\n",
    "plt.scatter(X, y);\n",
    "plt.plot(X, y_pred);\n",
    "print(r2_score(y, y_pred))"
   ]
  },
  {
   "cell_type": "code",
   "execution_count": null,
   "id": "8f2c53b2",
   "metadata": {},
   "outputs": [],
   "source": []
  }
 ],
 "metadata": {
  "kernelspec": {
   "display_name": "Python 3",
   "language": "python",
   "name": "python3"
  },
  "language_info": {
   "codemirror_mode": {
    "name": "ipython",
    "version": 3
   },
   "file_extension": ".py",
   "mimetype": "text/x-python",
   "name": "python",
   "nbconvert_exporter": "python",
   "pygments_lexer": "ipython3",
   "version": "3.8.11"
  }
 },
 "nbformat": 4,
 "nbformat_minor": 5
}
