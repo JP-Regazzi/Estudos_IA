{
 "cells": [
  {
   "cell_type": "markdown",
   "id": "120fb94e",
   "metadata": {},
   "source": [
    "# Trabalho realizado durante o curso de deep learning\n",
    "## Aluno: João Pedro Regazzi Ferreira da Silva\n",
    "## DRE: 120030115"
   ]
  },
  {
   "cell_type": "code",
   "execution_count": 1,
   "id": "29b102a7",
   "metadata": {},
   "outputs": [],
   "source": [
    "# Import pandas \n",
    "import pandas as pd\n",
    "\n",
    "# Read in white wine data \n",
    "white = pd.read_csv(\"http://archive.ics.uci.edu/ml/machine-learning-databases/wine-quality/winequality-white.csv\", sep=';')\n",
    "\n",
    "# Read in red wine data \n",
    "red = pd.read_csv(\"http://archive.ics.uci.edu/ml/machine-learning-databases/wine-quality/winequality-red.csv\", sep=';')"
   ]
  },
  {
   "cell_type": "markdown",
   "id": "3e8f346e",
   "metadata": {},
   "source": [
    "## 1) Exploração de dados"
   ]
  },
  {
   "cell_type": "code",
   "execution_count": 2,
   "id": "42e23c11",
   "metadata": {},
   "outputs": [
    {
     "name": "stdout",
     "output_type": "stream",
     "text": [
      "<class 'pandas.core.frame.DataFrame'>\n",
      "RangeIndex: 4898 entries, 0 to 4897\n",
      "Data columns (total 12 columns):\n",
      " #   Column                Non-Null Count  Dtype  \n",
      "---  ------                --------------  -----  \n",
      " 0   fixed acidity         4898 non-null   float64\n",
      " 1   volatile acidity      4898 non-null   float64\n",
      " 2   citric acid           4898 non-null   float64\n",
      " 3   residual sugar        4898 non-null   float64\n",
      " 4   chlorides             4898 non-null   float64\n",
      " 5   free sulfur dioxide   4898 non-null   float64\n",
      " 6   total sulfur dioxide  4898 non-null   float64\n",
      " 7   density               4898 non-null   float64\n",
      " 8   pH                    4898 non-null   float64\n",
      " 9   sulphates             4898 non-null   float64\n",
      " 10  alcohol               4898 non-null   float64\n",
      " 11  quality               4898 non-null   int64  \n",
      "dtypes: float64(11), int64(1)\n",
      "memory usage: 459.3 KB\n",
      "None\n",
      "<class 'pandas.core.frame.DataFrame'>\n",
      "RangeIndex: 1599 entries, 0 to 1598\n",
      "Data columns (total 12 columns):\n",
      " #   Column                Non-Null Count  Dtype  \n",
      "---  ------                --------------  -----  \n",
      " 0   fixed acidity         1599 non-null   float64\n",
      " 1   volatile acidity      1599 non-null   float64\n",
      " 2   citric acid           1599 non-null   float64\n",
      " 3   residual sugar        1599 non-null   float64\n",
      " 4   chlorides             1599 non-null   float64\n",
      " 5   free sulfur dioxide   1599 non-null   float64\n",
      " 6   total sulfur dioxide  1599 non-null   float64\n",
      " 7   density               1599 non-null   float64\n",
      " 8   pH                    1599 non-null   float64\n",
      " 9   sulphates             1599 non-null   float64\n",
      " 10  alcohol               1599 non-null   float64\n",
      " 11  quality               1599 non-null   int64  \n",
      "dtypes: float64(11), int64(1)\n",
      "memory usage: 150.0 KB\n",
      "None\n"
     ]
    }
   ],
   "source": [
    "# Print info on white wine\n",
    "print(white.info())\n",
    "\n",
    "# Print info on red wine\n",
    "print(red.info())"
   ]
  },
  {
   "cell_type": "code",
   "execution_count": 3,
   "id": "5218e3bb",
   "metadata": {},
   "outputs": [
    {
     "data": {
      "text/html": [
       "<div>\n",
       "<style scoped>\n",
       "    .dataframe tbody tr th:only-of-type {\n",
       "        vertical-align: middle;\n",
       "    }\n",
       "\n",
       "    .dataframe tbody tr th {\n",
       "        vertical-align: top;\n",
       "    }\n",
       "\n",
       "    .dataframe thead th {\n",
       "        text-align: right;\n",
       "    }\n",
       "</style>\n",
       "<table border=\"1\" class=\"dataframe\">\n",
       "  <thead>\n",
       "    <tr style=\"text-align: right;\">\n",
       "      <th></th>\n",
       "      <th>fixed acidity</th>\n",
       "      <th>volatile acidity</th>\n",
       "      <th>citric acid</th>\n",
       "      <th>residual sugar</th>\n",
       "      <th>chlorides</th>\n",
       "      <th>free sulfur dioxide</th>\n",
       "      <th>total sulfur dioxide</th>\n",
       "      <th>density</th>\n",
       "      <th>pH</th>\n",
       "      <th>sulphates</th>\n",
       "      <th>alcohol</th>\n",
       "      <th>quality</th>\n",
       "    </tr>\n",
       "  </thead>\n",
       "  <tbody>\n",
       "    <tr>\n",
       "      <th>0</th>\n",
       "      <td>7.4</td>\n",
       "      <td>0.70</td>\n",
       "      <td>0.00</td>\n",
       "      <td>1.9</td>\n",
       "      <td>0.076</td>\n",
       "      <td>11.0</td>\n",
       "      <td>34.0</td>\n",
       "      <td>0.9978</td>\n",
       "      <td>3.51</td>\n",
       "      <td>0.56</td>\n",
       "      <td>9.4</td>\n",
       "      <td>5</td>\n",
       "    </tr>\n",
       "    <tr>\n",
       "      <th>1</th>\n",
       "      <td>7.8</td>\n",
       "      <td>0.88</td>\n",
       "      <td>0.00</td>\n",
       "      <td>2.6</td>\n",
       "      <td>0.098</td>\n",
       "      <td>25.0</td>\n",
       "      <td>67.0</td>\n",
       "      <td>0.9968</td>\n",
       "      <td>3.20</td>\n",
       "      <td>0.68</td>\n",
       "      <td>9.8</td>\n",
       "      <td>5</td>\n",
       "    </tr>\n",
       "    <tr>\n",
       "      <th>2</th>\n",
       "      <td>7.8</td>\n",
       "      <td>0.76</td>\n",
       "      <td>0.04</td>\n",
       "      <td>2.3</td>\n",
       "      <td>0.092</td>\n",
       "      <td>15.0</td>\n",
       "      <td>54.0</td>\n",
       "      <td>0.9970</td>\n",
       "      <td>3.26</td>\n",
       "      <td>0.65</td>\n",
       "      <td>9.8</td>\n",
       "      <td>5</td>\n",
       "    </tr>\n",
       "    <tr>\n",
       "      <th>3</th>\n",
       "      <td>11.2</td>\n",
       "      <td>0.28</td>\n",
       "      <td>0.56</td>\n",
       "      <td>1.9</td>\n",
       "      <td>0.075</td>\n",
       "      <td>17.0</td>\n",
       "      <td>60.0</td>\n",
       "      <td>0.9980</td>\n",
       "      <td>3.16</td>\n",
       "      <td>0.58</td>\n",
       "      <td>9.8</td>\n",
       "      <td>6</td>\n",
       "    </tr>\n",
       "    <tr>\n",
       "      <th>4</th>\n",
       "      <td>7.4</td>\n",
       "      <td>0.70</td>\n",
       "      <td>0.00</td>\n",
       "      <td>1.9</td>\n",
       "      <td>0.076</td>\n",
       "      <td>11.0</td>\n",
       "      <td>34.0</td>\n",
       "      <td>0.9978</td>\n",
       "      <td>3.51</td>\n",
       "      <td>0.56</td>\n",
       "      <td>9.4</td>\n",
       "      <td>5</td>\n",
       "    </tr>\n",
       "  </tbody>\n",
       "</table>\n",
       "</div>"
      ],
      "text/plain": [
       "   fixed acidity  volatile acidity  citric acid  residual sugar  chlorides  \\\n",
       "0            7.4              0.70         0.00             1.9      0.076   \n",
       "1            7.8              0.88         0.00             2.6      0.098   \n",
       "2            7.8              0.76         0.04             2.3      0.092   \n",
       "3           11.2              0.28         0.56             1.9      0.075   \n",
       "4            7.4              0.70         0.00             1.9      0.076   \n",
       "\n",
       "   free sulfur dioxide  total sulfur dioxide  density    pH  sulphates  \\\n",
       "0                 11.0                  34.0   0.9978  3.51       0.56   \n",
       "1                 25.0                  67.0   0.9968  3.20       0.68   \n",
       "2                 15.0                  54.0   0.9970  3.26       0.65   \n",
       "3                 17.0                  60.0   0.9980  3.16       0.58   \n",
       "4                 11.0                  34.0   0.9978  3.51       0.56   \n",
       "\n",
       "   alcohol  quality  \n",
       "0      9.4        5  \n",
       "1      9.8        5  \n",
       "2      9.8        5  \n",
       "3      9.8        6  \n",
       "4      9.4        5  "
      ]
     },
     "execution_count": 3,
     "metadata": {},
     "output_type": "execute_result"
    }
   ],
   "source": [
    "# First rows of `red`\n",
    "red.head()"
   ]
  },
  {
   "cell_type": "code",
   "execution_count": 4,
   "id": "f6b797e3",
   "metadata": {},
   "outputs": [
    {
     "data": {
      "text/html": [
       "<div>\n",
       "<style scoped>\n",
       "    .dataframe tbody tr th:only-of-type {\n",
       "        vertical-align: middle;\n",
       "    }\n",
       "\n",
       "    .dataframe tbody tr th {\n",
       "        vertical-align: top;\n",
       "    }\n",
       "\n",
       "    .dataframe thead th {\n",
       "        text-align: right;\n",
       "    }\n",
       "</style>\n",
       "<table border=\"1\" class=\"dataframe\">\n",
       "  <thead>\n",
       "    <tr style=\"text-align: right;\">\n",
       "      <th></th>\n",
       "      <th>fixed acidity</th>\n",
       "      <th>volatile acidity</th>\n",
       "      <th>citric acid</th>\n",
       "      <th>residual sugar</th>\n",
       "      <th>chlorides</th>\n",
       "      <th>free sulfur dioxide</th>\n",
       "      <th>total sulfur dioxide</th>\n",
       "      <th>density</th>\n",
       "      <th>pH</th>\n",
       "      <th>sulphates</th>\n",
       "      <th>alcohol</th>\n",
       "      <th>quality</th>\n",
       "    </tr>\n",
       "  </thead>\n",
       "  <tbody>\n",
       "    <tr>\n",
       "      <th>4893</th>\n",
       "      <td>6.2</td>\n",
       "      <td>0.21</td>\n",
       "      <td>0.29</td>\n",
       "      <td>1.6</td>\n",
       "      <td>0.039</td>\n",
       "      <td>24.0</td>\n",
       "      <td>92.0</td>\n",
       "      <td>0.99114</td>\n",
       "      <td>3.27</td>\n",
       "      <td>0.50</td>\n",
       "      <td>11.2</td>\n",
       "      <td>6</td>\n",
       "    </tr>\n",
       "    <tr>\n",
       "      <th>4894</th>\n",
       "      <td>6.6</td>\n",
       "      <td>0.32</td>\n",
       "      <td>0.36</td>\n",
       "      <td>8.0</td>\n",
       "      <td>0.047</td>\n",
       "      <td>57.0</td>\n",
       "      <td>168.0</td>\n",
       "      <td>0.99490</td>\n",
       "      <td>3.15</td>\n",
       "      <td>0.46</td>\n",
       "      <td>9.6</td>\n",
       "      <td>5</td>\n",
       "    </tr>\n",
       "    <tr>\n",
       "      <th>4895</th>\n",
       "      <td>6.5</td>\n",
       "      <td>0.24</td>\n",
       "      <td>0.19</td>\n",
       "      <td>1.2</td>\n",
       "      <td>0.041</td>\n",
       "      <td>30.0</td>\n",
       "      <td>111.0</td>\n",
       "      <td>0.99254</td>\n",
       "      <td>2.99</td>\n",
       "      <td>0.46</td>\n",
       "      <td>9.4</td>\n",
       "      <td>6</td>\n",
       "    </tr>\n",
       "    <tr>\n",
       "      <th>4896</th>\n",
       "      <td>5.5</td>\n",
       "      <td>0.29</td>\n",
       "      <td>0.30</td>\n",
       "      <td>1.1</td>\n",
       "      <td>0.022</td>\n",
       "      <td>20.0</td>\n",
       "      <td>110.0</td>\n",
       "      <td>0.98869</td>\n",
       "      <td>3.34</td>\n",
       "      <td>0.38</td>\n",
       "      <td>12.8</td>\n",
       "      <td>7</td>\n",
       "    </tr>\n",
       "    <tr>\n",
       "      <th>4897</th>\n",
       "      <td>6.0</td>\n",
       "      <td>0.21</td>\n",
       "      <td>0.38</td>\n",
       "      <td>0.8</td>\n",
       "      <td>0.020</td>\n",
       "      <td>22.0</td>\n",
       "      <td>98.0</td>\n",
       "      <td>0.98941</td>\n",
       "      <td>3.26</td>\n",
       "      <td>0.32</td>\n",
       "      <td>11.8</td>\n",
       "      <td>6</td>\n",
       "    </tr>\n",
       "  </tbody>\n",
       "</table>\n",
       "</div>"
      ],
      "text/plain": [
       "      fixed acidity  volatile acidity  citric acid  residual sugar  chlorides  \\\n",
       "4893            6.2              0.21         0.29             1.6      0.039   \n",
       "4894            6.6              0.32         0.36             8.0      0.047   \n",
       "4895            6.5              0.24         0.19             1.2      0.041   \n",
       "4896            5.5              0.29         0.30             1.1      0.022   \n",
       "4897            6.0              0.21         0.38             0.8      0.020   \n",
       "\n",
       "      free sulfur dioxide  total sulfur dioxide  density    pH  sulphates  \\\n",
       "4893                 24.0                  92.0  0.99114  3.27       0.50   \n",
       "4894                 57.0                 168.0  0.99490  3.15       0.46   \n",
       "4895                 30.0                 111.0  0.99254  2.99       0.46   \n",
       "4896                 20.0                 110.0  0.98869  3.34       0.38   \n",
       "4897                 22.0                  98.0  0.98941  3.26       0.32   \n",
       "\n",
       "      alcohol  quality  \n",
       "4893     11.2        6  \n",
       "4894      9.6        5  \n",
       "4895      9.4        6  \n",
       "4896     12.8        7  \n",
       "4897     11.8        6  "
      ]
     },
     "execution_count": 4,
     "metadata": {},
     "output_type": "execute_result"
    }
   ],
   "source": [
    "# Last rows of `white`\n",
    "white.tail()"
   ]
  },
  {
   "cell_type": "code",
   "execution_count": 5,
   "id": "d5fb5759",
   "metadata": {},
   "outputs": [
    {
     "data": {
      "text/html": [
       "<div>\n",
       "<style scoped>\n",
       "    .dataframe tbody tr th:only-of-type {\n",
       "        vertical-align: middle;\n",
       "    }\n",
       "\n",
       "    .dataframe tbody tr th {\n",
       "        vertical-align: top;\n",
       "    }\n",
       "\n",
       "    .dataframe thead th {\n",
       "        text-align: right;\n",
       "    }\n",
       "</style>\n",
       "<table border=\"1\" class=\"dataframe\">\n",
       "  <thead>\n",
       "    <tr style=\"text-align: right;\">\n",
       "      <th></th>\n",
       "      <th>fixed acidity</th>\n",
       "      <th>volatile acidity</th>\n",
       "      <th>citric acid</th>\n",
       "      <th>residual sugar</th>\n",
       "      <th>chlorides</th>\n",
       "      <th>free sulfur dioxide</th>\n",
       "      <th>total sulfur dioxide</th>\n",
       "      <th>density</th>\n",
       "      <th>pH</th>\n",
       "      <th>sulphates</th>\n",
       "      <th>alcohol</th>\n",
       "      <th>quality</th>\n",
       "    </tr>\n",
       "  </thead>\n",
       "  <tbody>\n",
       "    <tr>\n",
       "      <th>56</th>\n",
       "      <td>10.2</td>\n",
       "      <td>0.420</td>\n",
       "      <td>0.57</td>\n",
       "      <td>3.4</td>\n",
       "      <td>0.070</td>\n",
       "      <td>4.0</td>\n",
       "      <td>10.0</td>\n",
       "      <td>0.99710</td>\n",
       "      <td>3.04</td>\n",
       "      <td>0.63</td>\n",
       "      <td>9.6</td>\n",
       "      <td>5</td>\n",
       "    </tr>\n",
       "    <tr>\n",
       "      <th>1047</th>\n",
       "      <td>7.1</td>\n",
       "      <td>0.430</td>\n",
       "      <td>0.17</td>\n",
       "      <td>1.8</td>\n",
       "      <td>0.082</td>\n",
       "      <td>27.0</td>\n",
       "      <td>51.0</td>\n",
       "      <td>0.99634</td>\n",
       "      <td>3.49</td>\n",
       "      <td>0.64</td>\n",
       "      <td>10.4</td>\n",
       "      <td>5</td>\n",
       "    </tr>\n",
       "    <tr>\n",
       "      <th>171</th>\n",
       "      <td>8.0</td>\n",
       "      <td>0.420</td>\n",
       "      <td>0.17</td>\n",
       "      <td>2.0</td>\n",
       "      <td>0.073</td>\n",
       "      <td>6.0</td>\n",
       "      <td>18.0</td>\n",
       "      <td>0.99720</td>\n",
       "      <td>3.29</td>\n",
       "      <td>0.61</td>\n",
       "      <td>9.2</td>\n",
       "      <td>6</td>\n",
       "    </tr>\n",
       "    <tr>\n",
       "      <th>1566</th>\n",
       "      <td>6.7</td>\n",
       "      <td>0.160</td>\n",
       "      <td>0.64</td>\n",
       "      <td>2.1</td>\n",
       "      <td>0.059</td>\n",
       "      <td>24.0</td>\n",
       "      <td>52.0</td>\n",
       "      <td>0.99494</td>\n",
       "      <td>3.34</td>\n",
       "      <td>0.71</td>\n",
       "      <td>11.2</td>\n",
       "      <td>6</td>\n",
       "    </tr>\n",
       "    <tr>\n",
       "      <th>843</th>\n",
       "      <td>7.1</td>\n",
       "      <td>0.685</td>\n",
       "      <td>0.35</td>\n",
       "      <td>2.0</td>\n",
       "      <td>0.088</td>\n",
       "      <td>9.0</td>\n",
       "      <td>92.0</td>\n",
       "      <td>0.99630</td>\n",
       "      <td>3.28</td>\n",
       "      <td>0.62</td>\n",
       "      <td>9.4</td>\n",
       "      <td>5</td>\n",
       "    </tr>\n",
       "  </tbody>\n",
       "</table>\n",
       "</div>"
      ],
      "text/plain": [
       "      fixed acidity  volatile acidity  citric acid  residual sugar  chlorides  \\\n",
       "56             10.2             0.420         0.57             3.4      0.070   \n",
       "1047            7.1             0.430         0.17             1.8      0.082   \n",
       "171             8.0             0.420         0.17             2.0      0.073   \n",
       "1566            6.7             0.160         0.64             2.1      0.059   \n",
       "843             7.1             0.685         0.35             2.0      0.088   \n",
       "\n",
       "      free sulfur dioxide  total sulfur dioxide  density    pH  sulphates  \\\n",
       "56                    4.0                  10.0  0.99710  3.04       0.63   \n",
       "1047                 27.0                  51.0  0.99634  3.49       0.64   \n",
       "171                   6.0                  18.0  0.99720  3.29       0.61   \n",
       "1566                 24.0                  52.0  0.99494  3.34       0.71   \n",
       "843                   9.0                  92.0  0.99630  3.28       0.62   \n",
       "\n",
       "      alcohol  quality  \n",
       "56        9.6        5  \n",
       "1047     10.4        5  \n",
       "171       9.2        6  \n",
       "1566     11.2        6  \n",
       "843       9.4        5  "
      ]
     },
     "execution_count": 5,
     "metadata": {},
     "output_type": "execute_result"
    }
   ],
   "source": [
    "# Take a sample of 5 rows of `red`\n",
    "red.sample(5)"
   ]
  },
  {
   "cell_type": "code",
   "execution_count": 6,
   "id": "f70a3a5e",
   "metadata": {},
   "outputs": [
    {
     "data": {
      "text/html": [
       "<div>\n",
       "<style scoped>\n",
       "    .dataframe tbody tr th:only-of-type {\n",
       "        vertical-align: middle;\n",
       "    }\n",
       "\n",
       "    .dataframe tbody tr th {\n",
       "        vertical-align: top;\n",
       "    }\n",
       "\n",
       "    .dataframe thead th {\n",
       "        text-align: right;\n",
       "    }\n",
       "</style>\n",
       "<table border=\"1\" class=\"dataframe\">\n",
       "  <thead>\n",
       "    <tr style=\"text-align: right;\">\n",
       "      <th></th>\n",
       "      <th>fixed acidity</th>\n",
       "      <th>volatile acidity</th>\n",
       "      <th>citric acid</th>\n",
       "      <th>residual sugar</th>\n",
       "      <th>chlorides</th>\n",
       "      <th>free sulfur dioxide</th>\n",
       "      <th>total sulfur dioxide</th>\n",
       "      <th>density</th>\n",
       "      <th>pH</th>\n",
       "      <th>sulphates</th>\n",
       "      <th>alcohol</th>\n",
       "      <th>quality</th>\n",
       "    </tr>\n",
       "  </thead>\n",
       "  <tbody>\n",
       "    <tr>\n",
       "      <th>count</th>\n",
       "      <td>4898.000000</td>\n",
       "      <td>4898.000000</td>\n",
       "      <td>4898.000000</td>\n",
       "      <td>4898.000000</td>\n",
       "      <td>4898.000000</td>\n",
       "      <td>4898.000000</td>\n",
       "      <td>4898.000000</td>\n",
       "      <td>4898.000000</td>\n",
       "      <td>4898.000000</td>\n",
       "      <td>4898.000000</td>\n",
       "      <td>4898.000000</td>\n",
       "      <td>4898.000000</td>\n",
       "    </tr>\n",
       "    <tr>\n",
       "      <th>mean</th>\n",
       "      <td>6.854788</td>\n",
       "      <td>0.278241</td>\n",
       "      <td>0.334192</td>\n",
       "      <td>6.391415</td>\n",
       "      <td>0.045772</td>\n",
       "      <td>35.308085</td>\n",
       "      <td>138.360657</td>\n",
       "      <td>0.994027</td>\n",
       "      <td>3.188267</td>\n",
       "      <td>0.489847</td>\n",
       "      <td>10.514267</td>\n",
       "      <td>5.877909</td>\n",
       "    </tr>\n",
       "    <tr>\n",
       "      <th>std</th>\n",
       "      <td>0.843868</td>\n",
       "      <td>0.100795</td>\n",
       "      <td>0.121020</td>\n",
       "      <td>5.072058</td>\n",
       "      <td>0.021848</td>\n",
       "      <td>17.007137</td>\n",
       "      <td>42.498065</td>\n",
       "      <td>0.002991</td>\n",
       "      <td>0.151001</td>\n",
       "      <td>0.114126</td>\n",
       "      <td>1.230621</td>\n",
       "      <td>0.885639</td>\n",
       "    </tr>\n",
       "    <tr>\n",
       "      <th>min</th>\n",
       "      <td>3.800000</td>\n",
       "      <td>0.080000</td>\n",
       "      <td>0.000000</td>\n",
       "      <td>0.600000</td>\n",
       "      <td>0.009000</td>\n",
       "      <td>2.000000</td>\n",
       "      <td>9.000000</td>\n",
       "      <td>0.987110</td>\n",
       "      <td>2.720000</td>\n",
       "      <td>0.220000</td>\n",
       "      <td>8.000000</td>\n",
       "      <td>3.000000</td>\n",
       "    </tr>\n",
       "    <tr>\n",
       "      <th>25%</th>\n",
       "      <td>6.300000</td>\n",
       "      <td>0.210000</td>\n",
       "      <td>0.270000</td>\n",
       "      <td>1.700000</td>\n",
       "      <td>0.036000</td>\n",
       "      <td>23.000000</td>\n",
       "      <td>108.000000</td>\n",
       "      <td>0.991723</td>\n",
       "      <td>3.090000</td>\n",
       "      <td>0.410000</td>\n",
       "      <td>9.500000</td>\n",
       "      <td>5.000000</td>\n",
       "    </tr>\n",
       "    <tr>\n",
       "      <th>50%</th>\n",
       "      <td>6.800000</td>\n",
       "      <td>0.260000</td>\n",
       "      <td>0.320000</td>\n",
       "      <td>5.200000</td>\n",
       "      <td>0.043000</td>\n",
       "      <td>34.000000</td>\n",
       "      <td>134.000000</td>\n",
       "      <td>0.993740</td>\n",
       "      <td>3.180000</td>\n",
       "      <td>0.470000</td>\n",
       "      <td>10.400000</td>\n",
       "      <td>6.000000</td>\n",
       "    </tr>\n",
       "    <tr>\n",
       "      <th>75%</th>\n",
       "      <td>7.300000</td>\n",
       "      <td>0.320000</td>\n",
       "      <td>0.390000</td>\n",
       "      <td>9.900000</td>\n",
       "      <td>0.050000</td>\n",
       "      <td>46.000000</td>\n",
       "      <td>167.000000</td>\n",
       "      <td>0.996100</td>\n",
       "      <td>3.280000</td>\n",
       "      <td>0.550000</td>\n",
       "      <td>11.400000</td>\n",
       "      <td>6.000000</td>\n",
       "    </tr>\n",
       "    <tr>\n",
       "      <th>max</th>\n",
       "      <td>14.200000</td>\n",
       "      <td>1.100000</td>\n",
       "      <td>1.660000</td>\n",
       "      <td>65.800000</td>\n",
       "      <td>0.346000</td>\n",
       "      <td>289.000000</td>\n",
       "      <td>440.000000</td>\n",
       "      <td>1.038980</td>\n",
       "      <td>3.820000</td>\n",
       "      <td>1.080000</td>\n",
       "      <td>14.200000</td>\n",
       "      <td>9.000000</td>\n",
       "    </tr>\n",
       "  </tbody>\n",
       "</table>\n",
       "</div>"
      ],
      "text/plain": [
       "       fixed acidity  volatile acidity  citric acid  residual sugar  \\\n",
       "count    4898.000000       4898.000000  4898.000000     4898.000000   \n",
       "mean        6.854788          0.278241     0.334192        6.391415   \n",
       "std         0.843868          0.100795     0.121020        5.072058   \n",
       "min         3.800000          0.080000     0.000000        0.600000   \n",
       "25%         6.300000          0.210000     0.270000        1.700000   \n",
       "50%         6.800000          0.260000     0.320000        5.200000   \n",
       "75%         7.300000          0.320000     0.390000        9.900000   \n",
       "max        14.200000          1.100000     1.660000       65.800000   \n",
       "\n",
       "         chlorides  free sulfur dioxide  total sulfur dioxide      density  \\\n",
       "count  4898.000000          4898.000000           4898.000000  4898.000000   \n",
       "mean      0.045772            35.308085            138.360657     0.994027   \n",
       "std       0.021848            17.007137             42.498065     0.002991   \n",
       "min       0.009000             2.000000              9.000000     0.987110   \n",
       "25%       0.036000            23.000000            108.000000     0.991723   \n",
       "50%       0.043000            34.000000            134.000000     0.993740   \n",
       "75%       0.050000            46.000000            167.000000     0.996100   \n",
       "max       0.346000           289.000000            440.000000     1.038980   \n",
       "\n",
       "                pH    sulphates      alcohol      quality  \n",
       "count  4898.000000  4898.000000  4898.000000  4898.000000  \n",
       "mean      3.188267     0.489847    10.514267     5.877909  \n",
       "std       0.151001     0.114126     1.230621     0.885639  \n",
       "min       2.720000     0.220000     8.000000     3.000000  \n",
       "25%       3.090000     0.410000     9.500000     5.000000  \n",
       "50%       3.180000     0.470000    10.400000     6.000000  \n",
       "75%       3.280000     0.550000    11.400000     6.000000  \n",
       "max       3.820000     1.080000    14.200000     9.000000  "
      ]
     },
     "execution_count": 6,
     "metadata": {},
     "output_type": "execute_result"
    }
   ],
   "source": [
    "# Describe `white`\n",
    "white.describe()"
   ]
  },
  {
   "cell_type": "code",
   "execution_count": 7,
   "id": "a9ca0af4",
   "metadata": {},
   "outputs": [
    {
     "data": {
      "text/html": [
       "<div>\n",
       "<style scoped>\n",
       "    .dataframe tbody tr th:only-of-type {\n",
       "        vertical-align: middle;\n",
       "    }\n",
       "\n",
       "    .dataframe tbody tr th {\n",
       "        vertical-align: top;\n",
       "    }\n",
       "\n",
       "    .dataframe thead th {\n",
       "        text-align: right;\n",
       "    }\n",
       "</style>\n",
       "<table border=\"1\" class=\"dataframe\">\n",
       "  <thead>\n",
       "    <tr style=\"text-align: right;\">\n",
       "      <th></th>\n",
       "      <th>fixed acidity</th>\n",
       "      <th>volatile acidity</th>\n",
       "      <th>citric acid</th>\n",
       "      <th>residual sugar</th>\n",
       "      <th>chlorides</th>\n",
       "      <th>free sulfur dioxide</th>\n",
       "      <th>total sulfur dioxide</th>\n",
       "      <th>density</th>\n",
       "      <th>pH</th>\n",
       "      <th>sulphates</th>\n",
       "      <th>alcohol</th>\n",
       "      <th>quality</th>\n",
       "    </tr>\n",
       "  </thead>\n",
       "  <tbody>\n",
       "    <tr>\n",
       "      <th>0</th>\n",
       "      <td>False</td>\n",
       "      <td>False</td>\n",
       "      <td>False</td>\n",
       "      <td>False</td>\n",
       "      <td>False</td>\n",
       "      <td>False</td>\n",
       "      <td>False</td>\n",
       "      <td>False</td>\n",
       "      <td>False</td>\n",
       "      <td>False</td>\n",
       "      <td>False</td>\n",
       "      <td>False</td>\n",
       "    </tr>\n",
       "    <tr>\n",
       "      <th>1</th>\n",
       "      <td>False</td>\n",
       "      <td>False</td>\n",
       "      <td>False</td>\n",
       "      <td>False</td>\n",
       "      <td>False</td>\n",
       "      <td>False</td>\n",
       "      <td>False</td>\n",
       "      <td>False</td>\n",
       "      <td>False</td>\n",
       "      <td>False</td>\n",
       "      <td>False</td>\n",
       "      <td>False</td>\n",
       "    </tr>\n",
       "    <tr>\n",
       "      <th>2</th>\n",
       "      <td>False</td>\n",
       "      <td>False</td>\n",
       "      <td>False</td>\n",
       "      <td>False</td>\n",
       "      <td>False</td>\n",
       "      <td>False</td>\n",
       "      <td>False</td>\n",
       "      <td>False</td>\n",
       "      <td>False</td>\n",
       "      <td>False</td>\n",
       "      <td>False</td>\n",
       "      <td>False</td>\n",
       "    </tr>\n",
       "    <tr>\n",
       "      <th>3</th>\n",
       "      <td>False</td>\n",
       "      <td>False</td>\n",
       "      <td>False</td>\n",
       "      <td>False</td>\n",
       "      <td>False</td>\n",
       "      <td>False</td>\n",
       "      <td>False</td>\n",
       "      <td>False</td>\n",
       "      <td>False</td>\n",
       "      <td>False</td>\n",
       "      <td>False</td>\n",
       "      <td>False</td>\n",
       "    </tr>\n",
       "    <tr>\n",
       "      <th>4</th>\n",
       "      <td>False</td>\n",
       "      <td>False</td>\n",
       "      <td>False</td>\n",
       "      <td>False</td>\n",
       "      <td>False</td>\n",
       "      <td>False</td>\n",
       "      <td>False</td>\n",
       "      <td>False</td>\n",
       "      <td>False</td>\n",
       "      <td>False</td>\n",
       "      <td>False</td>\n",
       "      <td>False</td>\n",
       "    </tr>\n",
       "    <tr>\n",
       "      <th>...</th>\n",
       "      <td>...</td>\n",
       "      <td>...</td>\n",
       "      <td>...</td>\n",
       "      <td>...</td>\n",
       "      <td>...</td>\n",
       "      <td>...</td>\n",
       "      <td>...</td>\n",
       "      <td>...</td>\n",
       "      <td>...</td>\n",
       "      <td>...</td>\n",
       "      <td>...</td>\n",
       "      <td>...</td>\n",
       "    </tr>\n",
       "    <tr>\n",
       "      <th>1594</th>\n",
       "      <td>False</td>\n",
       "      <td>False</td>\n",
       "      <td>False</td>\n",
       "      <td>False</td>\n",
       "      <td>False</td>\n",
       "      <td>False</td>\n",
       "      <td>False</td>\n",
       "      <td>False</td>\n",
       "      <td>False</td>\n",
       "      <td>False</td>\n",
       "      <td>False</td>\n",
       "      <td>False</td>\n",
       "    </tr>\n",
       "    <tr>\n",
       "      <th>1595</th>\n",
       "      <td>False</td>\n",
       "      <td>False</td>\n",
       "      <td>False</td>\n",
       "      <td>False</td>\n",
       "      <td>False</td>\n",
       "      <td>False</td>\n",
       "      <td>False</td>\n",
       "      <td>False</td>\n",
       "      <td>False</td>\n",
       "      <td>False</td>\n",
       "      <td>False</td>\n",
       "      <td>False</td>\n",
       "    </tr>\n",
       "    <tr>\n",
       "      <th>1596</th>\n",
       "      <td>False</td>\n",
       "      <td>False</td>\n",
       "      <td>False</td>\n",
       "      <td>False</td>\n",
       "      <td>False</td>\n",
       "      <td>False</td>\n",
       "      <td>False</td>\n",
       "      <td>False</td>\n",
       "      <td>False</td>\n",
       "      <td>False</td>\n",
       "      <td>False</td>\n",
       "      <td>False</td>\n",
       "    </tr>\n",
       "    <tr>\n",
       "      <th>1597</th>\n",
       "      <td>False</td>\n",
       "      <td>False</td>\n",
       "      <td>False</td>\n",
       "      <td>False</td>\n",
       "      <td>False</td>\n",
       "      <td>False</td>\n",
       "      <td>False</td>\n",
       "      <td>False</td>\n",
       "      <td>False</td>\n",
       "      <td>False</td>\n",
       "      <td>False</td>\n",
       "      <td>False</td>\n",
       "    </tr>\n",
       "    <tr>\n",
       "      <th>1598</th>\n",
       "      <td>False</td>\n",
       "      <td>False</td>\n",
       "      <td>False</td>\n",
       "      <td>False</td>\n",
       "      <td>False</td>\n",
       "      <td>False</td>\n",
       "      <td>False</td>\n",
       "      <td>False</td>\n",
       "      <td>False</td>\n",
       "      <td>False</td>\n",
       "      <td>False</td>\n",
       "      <td>False</td>\n",
       "    </tr>\n",
       "  </tbody>\n",
       "</table>\n",
       "<p>1599 rows × 12 columns</p>\n",
       "</div>"
      ],
      "text/plain": [
       "      fixed acidity  volatile acidity  citric acid  residual sugar  chlorides  \\\n",
       "0             False             False        False           False      False   \n",
       "1             False             False        False           False      False   \n",
       "2             False             False        False           False      False   \n",
       "3             False             False        False           False      False   \n",
       "4             False             False        False           False      False   \n",
       "...             ...               ...          ...             ...        ...   \n",
       "1594          False             False        False           False      False   \n",
       "1595          False             False        False           False      False   \n",
       "1596          False             False        False           False      False   \n",
       "1597          False             False        False           False      False   \n",
       "1598          False             False        False           False      False   \n",
       "\n",
       "      free sulfur dioxide  total sulfur dioxide  density     pH  sulphates  \\\n",
       "0                   False                 False    False  False      False   \n",
       "1                   False                 False    False  False      False   \n",
       "2                   False                 False    False  False      False   \n",
       "3                   False                 False    False  False      False   \n",
       "4                   False                 False    False  False      False   \n",
       "...                   ...                   ...      ...    ...        ...   \n",
       "1594                False                 False    False  False      False   \n",
       "1595                False                 False    False  False      False   \n",
       "1596                False                 False    False  False      False   \n",
       "1597                False                 False    False  False      False   \n",
       "1598                False                 False    False  False      False   \n",
       "\n",
       "      alcohol  quality  \n",
       "0       False    False  \n",
       "1       False    False  \n",
       "2       False    False  \n",
       "3       False    False  \n",
       "4       False    False  \n",
       "...       ...      ...  \n",
       "1594    False    False  \n",
       "1595    False    False  \n",
       "1596    False    False  \n",
       "1597    False    False  \n",
       "1598    False    False  \n",
       "\n",
       "[1599 rows x 12 columns]"
      ]
     },
     "execution_count": 7,
     "metadata": {},
     "output_type": "execute_result"
    }
   ],
   "source": [
    "# Double check for null values in `red`\n",
    "pd.isnull(red)"
   ]
  },
  {
   "cell_type": "markdown",
   "id": "8759fdc7",
   "metadata": {},
   "source": [
    "## 2) Visualização de dados"
   ]
  },
  {
   "cell_type": "markdown",
   "id": "23d6807f",
   "metadata": {},
   "source": [
    "### 2.1) Álcool"
   ]
  },
  {
   "cell_type": "code",
   "execution_count": 8,
   "id": "1da0f5ca",
   "metadata": {},
   "outputs": [
    {
     "data": {
      "image/png": "[encoded data removed]",
      "text/plain": [
       "<Figure size 640x480 with 2 Axes>"
      ]
     },
     "metadata": {},
     "output_type": "display_data"
    }
   ],
   "source": [
    "import matplotlib.pyplot as plt\n",
    "\n",
    "fig, ax = plt.subplots(1, 2)\n",
    "\n",
    "ax[0].hist(red.alcohol, 10, facecolor='red', alpha=0.5, label=\"Red wine\")\n",
    "ax[1].hist(white.alcohol, 10, facecolor='white', ec=\"black\", lw=0.5, alpha=0.5, label=\"White wine\")\n",
    "\n",
    "fig.subplots_adjust(left=0, right=1, bottom=0, top=0.5, hspace=0.05, wspace=1)\n",
    "ax[0].set_ylim([0, 1000])\n",
    "ax[0].set_xlabel(\"Alcohol in % Vol\")\n",
    "ax[0].set_ylabel(\"Frequency\")\n",
    "ax[1].set_xlabel(\"Alcohol in % Vol\")\n",
    "ax[1].set_ylabel(\"Frequency\")\n",
    "ax[0].legend(loc='best')\n",
    "ax[1].legend(loc='best')\n",
    "fig.suptitle(\"Distribution of Alcohol in % Vol\")\n",
    "\n",
    "plt.show()"
   ]
  },
  {
   "cell_type": "code",
   "execution_count": 9,
   "id": "7e14d971",
   "metadata": {},
   "outputs": [
    {
     "name": "stdout",
     "output_type": "stream",
     "text": [
      "(array([  0,   7, 673, 452, 305, 133,  21,   8], dtype=int64), array([ 7,  8,  9, 10, 11, 12, 13, 14, 15]))\n",
      "(array([   0,  317, 1606, 1256,  906,  675,  131,    7], dtype=int64), array([ 7,  8,  9, 10, 11, 12, 13, 14, 15]))\n"
     ]
    }
   ],
   "source": [
    "# Vendo os mesmos valores dos gráfico, mas agr em um array\n",
    "import numpy as np\n",
    "print(np.histogram(red.alcohol, bins=[7,8,9,10,11,12,13,14,15]))\n",
    "print(np.histogram(white.alcohol, bins=[7,8,9,10,11,12,13,14,15]))"
   ]
  },
  {
   "cell_type": "markdown",
   "id": "d0d399a7",
   "metadata": {},
   "source": [
    "### 2.2) Sulfatos"
   ]
  },
  {
   "cell_type": "code",
   "execution_count": 10,
   "id": "092e33aa",
   "metadata": {},
   "outputs": [
    {
     "data": {
      "image/png": "[encoded data removed]",
      "text/plain": [
       "<Figure size 800x400 with 2 Axes>"
      ]
     },
     "metadata": {},
     "output_type": "display_data"
    }
   ],
   "source": [
    "fig, ax = plt.subplots(1, 2, figsize=(8, 4))\n",
    "\n",
    "ax[0].scatter(red['quality'], red[\"sulphates\"], color=\"red\")\n",
    "ax[1].scatter(white['quality'], white['sulphates'], color=\"white\", edgecolors=\"black\", lw=0.5)\n",
    "\n",
    "ax[0].set_title(\"Red Wine\")\n",
    "ax[1].set_title(\"White Wine\")\n",
    "ax[0].set_xlabel(\"Quality\")\n",
    "ax[1].set_xlabel(\"Quality\")\n",
    "ax[0].set_ylabel(\"Sulphates\")\n",
    "ax[1].set_ylabel(\"Sulphates\")\n",
    "ax[0].set_xlim([0,10])\n",
    "ax[1].set_xlim([0,10])\n",
    "ax[0].set_ylim([0,2.5])\n",
    "ax[1].set_ylim([0,2.5])\n",
    "fig.subplots_adjust(wspace=0.5)\n",
    "fig.suptitle(\"Wine Quality by Amount of Sulphates\")\n",
    "\n",
    "plt.show()"
   ]
  },
  {
   "cell_type": "markdown",
   "id": "9189ca91",
   "metadata": {},
   "source": [
    "### 2.3) Acidez"
   ]
  },
  {
   "cell_type": "code",
   "execution_count": 11,
   "id": "ab96c7a0",
   "metadata": {},
   "outputs": [
    {
     "data": {
      "image/png": "[encoded data removed]",
      "text/plain": [
       "<Figure size 800x400 with 2 Axes>"
      ]
     },
     "metadata": {},
     "output_type": "display_data"
    }
   ],
   "source": [
    "from matplotlib.axes._axes import _log as matplotlib_axes_logger\n",
    "matplotlib_axes_logger.setLevel('ERROR')\n",
    "\n",
    "np.random.seed(570)\n",
    "\n",
    "redlabels = np.unique(red['quality'])\n",
    "whitelabels = np.unique(white['quality'])\n",
    "\n",
    "\n",
    "whitecolors = [[0.6, 0.1, 0.1, 0.7],\n",
    "[0.5, 0.2, 0.1, 0.7],\n",
    " [0.4, 0.3, 0.1, 0.7],\n",
    " [0.3, 0.4, 0.1, 0.7],\n",
    " [0.2, 0.5, 0.1, 0.7],\n",
    " [0.01, 0.7, 0.1, 0.7]]\n",
    "\n",
    "redcolors = whitecolors[:-1]\n",
    "\n",
    "fig, ax = plt.subplots(1, 2, figsize=(8, 4))\n",
    "\n",
    "for i in range(len(redcolors)):\n",
    "    redy = red['alcohol'][red.quality == redlabels[i]]\n",
    "    redx = red['volatile acidity'][red.quality == redlabels[i]]\n",
    "    ax[0].scatter(redx, redy, c=redcolors[i])\n",
    "for i in range(len(whitecolors)):\n",
    "    whitey = white['alcohol'][white.quality == whitelabels[i]]\n",
    "    whitex = white['volatile acidity'][white.quality == whitelabels[i]]\n",
    "    ax[1].scatter(whitex, whitey, c=whitecolors[i])\n",
    "    \n",
    "ax[0].set_title(\"Red Wine\")\n",
    "ax[1].set_title(\"White Wine\")\n",
    "ax[0].set_xlim([0,1.7])\n",
    "ax[1].set_xlim([0,1.7])\n",
    "ax[0].set_ylim([5,15.5])\n",
    "ax[1].set_ylim([5,15.5])\n",
    "ax[0].set_xlabel(\"Volatile Acidity\")\n",
    "ax[0].set_ylabel(\"Alcohol\")\n",
    "ax[1].set_xlabel(\"Volatile Acidity\")\n",
    "ax[1].set_ylabel(\"Alcohol\") \n",
    "ax[0].legend(redlabels, loc='best', bbox_to_anchor=(1.3, 1))\n",
    "ax[1].legend(whitelabels, loc='best', bbox_to_anchor=(1.3, 1))\n",
    "fig.suptitle(\"Alcohol - Volatile Acidity\")\n",
    "fig.subplots_adjust(top=0.85, wspace=0.7)\n",
    "\n",
    "plt.show()"
   ]
  },
  {
   "cell_type": "markdown",
   "id": "7436ebcb",
   "metadata": {},
   "source": [
    "## 3) Pré-Processamento de dados"
   ]
  },
  {
   "cell_type": "code",
   "execution_count": 12,
   "id": "41ea0ac7",
   "metadata": {},
   "outputs": [],
   "source": [
    "# Add `type` column to `red` with value 1\n",
    "red['type'] = 1\n",
    "\n",
    "# Add `type` column to `white` with value 0\n",
    "white['type'] = 0\n",
    "\n",
    "# Append `white` to `red`\n",
    "wines = red.append(white, ignore_index=True)"
   ]
  },
  {
   "cell_type": "code",
   "execution_count": 13,
   "id": "8eb310ef",
   "metadata": {},
   "outputs": [
    {
     "data": {
      "image/png": "[encoded data removed]",
      "text/plain": [
       "<Figure size 640x480 with 2 Axes>"
      ]
     },
     "metadata": {},
     "output_type": "display_data"
    }
   ],
   "source": [
    "import seaborn as sns\n",
    "corr = wines.corr()\n",
    "sns.heatmap(corr, \n",
    "            xticklabels=corr.columns.values,\n",
    "            yticklabels=corr.columns.values)\n",
    "plt.show()"
   ]
  },
  {
   "cell_type": "markdown",
   "id": "a0f39ca3",
   "metadata": {},
   "source": [
    "## 4) Treino e testes"
   ]
  },
  {
   "cell_type": "code",
   "execution_count": 14,
   "id": "16f1cf63",
   "metadata": {},
   "outputs": [],
   "source": [
    "# Import `train_test_split` from `sklearn.model_selection`\n",
    "from sklearn.model_selection import train_test_split\n",
    "\n",
    "# Specify the data \n",
    "X= wines.iloc[:,0:11]\n",
    "\n",
    "# Specify the target labels and flatten the array\n",
    "y= np.ravel(wines.type)\n",
    "\n",
    "# Split the data up in train and test sets\n",
    "X_train, X_test, y_train, y_test = train_test_split(X, y, test_size=0.33, random_state=42)"
   ]
  },
  {
   "cell_type": "markdown",
   "id": "f3e0cc6d",
   "metadata": {},
   "source": [
    "## 5) Padronização dos dados"
   ]
  },
  {
   "cell_type": "code",
   "execution_count": 15,
   "id": "bf4770fd",
   "metadata": {},
   "outputs": [],
   "source": [
    "# Import `StandardScaler` from `sklearn.preprocessing`\n",
    "from sklearn.preprocessing import StandardScaler\n",
    "\n",
    "# Define the scaler \n",
    "scaler = StandardScaler().fit(X_train)\n",
    "\n",
    "# Scale the train set\n",
    "X_train = scaler.transform(X_train)\n",
    "\n",
    "# Scale the test set\n",
    "X_test = scaler.transform(X_test)"
   ]
  },
  {
   "cell_type": "markdown",
   "id": "507b1dd6",
   "metadata": {},
   "source": [
    "## 6) Modelagem de dados"
   ]
  },
  {
   "cell_type": "code",
   "execution_count": 16,
   "id": "6dd5dc53",
   "metadata": {},
   "outputs": [],
   "source": [
    "# Import `Sequential` from `keras.models`\n",
    "from keras.models import Sequential\n",
    "\n",
    "# Import `Dense` from `keras.layers`\n",
    "from keras.layers import Dense\n",
    "\n",
    "# Initialize the constructor\n",
    "model = Sequential()\n",
    "\n",
    "# Add an input layer \n",
    "model.add(Dense(12, activation='relu', input_shape=(11,)))\n",
    "\n",
    "# Add one hidden layer \n",
    "model.add(Dense(8, activation='relu'))\n",
    "\n",
    "# Add an output layer \n",
    "model.add(Dense(1, activation='sigmoid'))"
   ]
  },
  {
   "cell_type": "code",
   "execution_count": 17,
   "id": "47af2d4a",
   "metadata": {},
   "outputs": [
    {
     "data": {
      "text/plain": [
       "(None, 1)"
      ]
     },
     "execution_count": 17,
     "metadata": {},
     "output_type": "execute_result"
    }
   ],
   "source": [
    "# Model output shape\n",
    "model.output_shape"
   ]
  },
  {
   "cell_type": "code",
   "execution_count": 18,
   "id": "83f8cf04",
   "metadata": {},
   "outputs": [
    {
     "name": "stdout",
     "output_type": "stream",
     "text": [
      "Model: \"sequential\"\n",
      "_________________________________________________________________\n",
      "Layer (type)                 Output Shape              Param #   \n",
      "=================================================================\n",
      "dense (Dense)                (None, 12)                144       \n",
      "_________________________________________________________________\n",
      "dense_1 (Dense)              (None, 8)                 104       \n",
      "_________________________________________________________________\n",
      "dense_2 (Dense)              (None, 1)                 9         \n",
      "=================================================================\n",
      "Total params: 257\n",
      "Trainable params: 257\n",
      "Non-trainable params: 0\n",
      "_________________________________________________________________\n"
     ]
    }
   ],
   "source": [
    "# Model summary\n",
    "model.summary()"
   ]
  },
  {
   "cell_type": "code",
   "execution_count": 19,
   "id": "84fe69d8",
   "metadata": {},
   "outputs": [
    {
     "data": {
      "text/plain": [
       "{'name': 'sequential',\n",
       " 'layers': [{'class_name': 'InputLayer',\n",
       "   'config': {'batch_input_shape': (None, 11),\n",
       "    'dtype': 'float32',\n",
       "    'sparse': False,\n",
       "    'ragged': False,\n",
       "    'name': 'dense_input'}},\n",
       "  {'class_name': 'Dense',\n",
       "   'config': {'name': 'dense',\n",
       "    'trainable': True,\n",
       "    'batch_input_shape': (None, 11),\n",
       "    'dtype': 'float32',\n",
       "    'units': 12,\n",
       "    'activation': 'relu',\n",
       "    'use_bias': True,\n",
       "    'kernel_initializer': {'class_name': 'GlorotUniform',\n",
       "     'config': {'seed': None}},\n",
       "    'bias_initializer': {'class_name': 'Zeros', 'config': {}},\n",
       "    'kernel_regularizer': None,\n",
       "    'bias_regularizer': None,\n",
       "    'activity_regularizer': None,\n",
       "    'kernel_constraint': None,\n",
       "    'bias_constraint': None}},\n",
       "  {'class_name': 'Dense',\n",
       "   'config': {'name': 'dense_1',\n",
       "    'trainable': True,\n",
       "    'dtype': 'float32',\n",
       "    'units': 8,\n",
       "    'activation': 'relu',\n",
       "    'use_bias': True,\n",
       "    'kernel_initializer': {'class_name': 'GlorotUniform',\n",
       "     'config': {'seed': None}},\n",
       "    'bias_initializer': {'class_name': 'Zeros', 'config': {}},\n",
       "    'kernel_regularizer': None,\n",
       "    'bias_regularizer': None,\n",
       "    'activity_regularizer': None,\n",
       "    'kernel_constraint': None,\n",
       "    'bias_constraint': None}},\n",
       "  {'class_name': 'Dense',\n",
       "   'config': {'name': 'dense_2',\n",
       "    'trainable': True,\n",
       "    'dtype': 'float32',\n",
       "    'units': 1,\n",
       "    'activation': 'sigmoid',\n",
       "    'use_bias': True,\n",
       "    'kernel_initializer': {'class_name': 'GlorotUniform',\n",
       "     'config': {'seed': None}},\n",
       "    'bias_initializer': {'class_name': 'Zeros', 'config': {}},\n",
       "    'kernel_regularizer': None,\n",
       "    'bias_regularizer': None,\n",
       "    'activity_regularizer': None,\n",
       "    'kernel_constraint': None,\n",
       "    'bias_constraint': None}}]}"
      ]
     },
     "execution_count": 19,
     "metadata": {},
     "output_type": "execute_result"
    }
   ],
   "source": [
    "# Model config\n",
    "model.get_config()"
   ]
  },
  {
   "cell_type": "code",
   "execution_count": 20,
   "id": "05f0c1de",
   "metadata": {},
   "outputs": [
    {
     "data": {
      "text/plain": [
       "[array([[ 0.14615428, -0.40709776, -0.09800479, -0.21172613,  0.0585472 ,\n",
       "          0.25262427,  0.36287457, -0.47476617, -0.36687472,  0.08507288,\n",
       "          0.03432882, -0.22920889],\n",
       "        [ 0.4243126 , -0.2698401 ,  0.11428237,  0.29641795, -0.28307402,\n",
       "         -0.3251608 ,  0.50150424,  0.41217482, -0.49792075, -0.05891302,\n",
       "          0.05956781,  0.09341967],\n",
       "        [ 0.40188998, -0.17436269,  0.18184191,  0.15211242, -0.1559059 ,\n",
       "          0.24217701, -0.19051847, -0.06782317,  0.23957896, -0.35497236,\n",
       "         -0.17149445, -0.4647568 ],\n",
       "        [-0.48471615, -0.27103078, -0.08898407,  0.37141246, -0.17011634,\n",
       "          0.16151464,  0.15861267,  0.48622614,  0.17392153,  0.1806848 ,\n",
       "          0.34023207, -0.04198363],\n",
       "        [-0.49114674,  0.17593038,  0.45598823,  0.14452523,  0.4962961 ,\n",
       "          0.32199907, -0.23653269,  0.35843903, -0.16345522,  0.17381316,\n",
       "          0.25506788, -0.07046407],\n",
       "        [ 0.052791  , -0.1366348 ,  0.4559958 , -0.30695206,  0.3830837 ,\n",
       "         -0.2488716 ,  0.1779601 , -0.41531366,  0.39013875, -0.17671779,\n",
       "         -0.41294774, -0.3249113 ],\n",
       "        [ 0.42786568, -0.01927146, -0.07724893, -0.13663065, -0.46083605,\n",
       "          0.41270822, -0.06760764,  0.28993887, -0.11482546, -0.45353416,\n",
       "          0.28058928,  0.31747544],\n",
       "        [-0.05135408,  0.05032325,  0.4122159 , -0.05844337, -0.4328266 ,\n",
       "          0.24418664, -0.07545021, -0.0153355 , -0.2903954 , -0.25193712,\n",
       "         -0.25977772, -0.4153093 ],\n",
       "        [-0.1314654 ,  0.20742911, -0.20948783, -0.1207971 , -0.1421426 ,\n",
       "          0.41374916, -0.13221759, -0.33981365, -0.40993655,  0.08674932,\n",
       "          0.23120582, -0.21703947],\n",
       "        [ 0.3970729 , -0.1294978 , -0.2551115 ,  0.08568209,  0.33269125,\n",
       "          0.14592218, -0.50211877, -0.43495643, -0.10700214,  0.23792541,\n",
       "         -0.09773374, -0.04744956],\n",
       "        [ 0.36572325,  0.47531098, -0.4231627 ,  0.3892653 , -0.39572403,\n",
       "          0.39144623, -0.27503967,  0.3682186 ,  0.1553365 ,  0.28416514,\n",
       "         -0.33020502,  0.23753011]], dtype=float32),\n",
       " array([0., 0., 0., 0., 0., 0., 0., 0., 0., 0., 0., 0.], dtype=float32),\n",
       " array([[ 0.31903875,  0.41594672, -0.50421   ,  0.10858917, -0.0630748 ,\n",
       "          0.2146051 ,  0.26431602, -0.38530013],\n",
       "        [-0.33746696, -0.24977577,  0.44590253, -0.31986272, -0.418886  ,\n",
       "          0.17823303,  0.05899006, -0.3582328 ],\n",
       "        [-0.4700023 ,  0.44463766,  0.1447289 , -0.24189681, -0.138531  ,\n",
       "          0.48511612, -0.42010188,  0.32439607],\n",
       "        [ 0.17241901,  0.14340019,  0.50690985, -0.46615088, -0.3550018 ,\n",
       "          0.45120788,  0.36462086, -0.3474655 ],\n",
       "        [-0.36168513,  0.28764558,  0.32500345, -0.16437513,  0.1687758 ,\n",
       "         -0.10499749,  0.29225868,  0.3986019 ],\n",
       "        [ 0.40317088,  0.46636152,  0.15401143, -0.04718131, -0.29903305,\n",
       "         -0.37246275,  0.3957762 ,  0.14163989],\n",
       "        [-0.26968408,  0.09260452,  0.02842516,  0.24786282,  0.07798046,\n",
       "          0.33466244,  0.02148068, -0.04274184],\n",
       "        [ 0.01236272, -0.5347462 , -0.05514568,  0.43756336, -0.0916166 ,\n",
       "         -0.26944432, -0.12799507,  0.13064969],\n",
       "        [ 0.47396147,  0.07544887,  0.07638937,  0.5069932 ,  0.20292866,\n",
       "          0.14199364, -0.06394935,  0.36400998],\n",
       "        [ 0.30190045,  0.13451087,  0.5425961 ,  0.36988562, -0.53724515,\n",
       "          0.1489743 , -0.20484737, -0.3179056 ],\n",
       "        [-0.29607862, -0.24637881,  0.52308595,  0.3084597 ,  0.29079622,\n",
       "         -0.29268453, -0.00663137,  0.39571017],\n",
       "        [-0.5119776 ,  0.30193686, -0.4717216 ,  0.07580143,  0.0007391 ,\n",
       "          0.3518669 , -0.18705487, -0.174332  ]], dtype=float32),\n",
       " array([0., 0., 0., 0., 0., 0., 0., 0.], dtype=float32),\n",
       " array([[-0.5236309 ],\n",
       "        [ 0.7966156 ],\n",
       "        [ 0.6256298 ],\n",
       "        [-0.4633547 ],\n",
       "        [ 0.46242678],\n",
       "        [ 0.709242  ],\n",
       "        [ 0.15296972],\n",
       "        [ 0.71883035]], dtype=float32),\n",
       " array([0.], dtype=float32)]"
      ]
     },
     "execution_count": 20,
     "metadata": {},
     "output_type": "execute_result"
    }
   ],
   "source": [
    "# List all weight tensors \n",
    "model.get_weights()"
   ]
  },
  {
   "cell_type": "markdown",
   "id": "bea2a380",
   "metadata": {},
   "source": [
    "## 6) Compilar e encaixar"
   ]
  },
  {
   "cell_type": "code",
   "execution_count": 21,
   "id": "8b688b2f",
   "metadata": {},
   "outputs": [
    {
     "name": "stdout",
     "output_type": "stream",
     "text": [
      "Epoch 1/20\n",
      "4352/4352 [==============================] - 4s 888us/step - loss: 0.0842 - accuracy: 0.9756\n",
      "Epoch 2/20\n",
      "4352/4352 [==============================] - 4s 888us/step - loss: 0.0245 - accuracy: 0.9947\n",
      "Epoch 3/20\n",
      "4352/4352 [==============================] - 4s 805us/step - loss: 0.0207 - accuracy: 0.9970\n",
      "Epoch 4/20\n",
      "4352/4352 [==============================] - 4s 893us/step - loss: 0.0180 - accuracy: 0.9966\n",
      "Epoch 5/20\n",
      "4352/4352 [==============================] - 4s 886us/step - loss: 0.0171 - accuracy: 0.9966\n",
      "Epoch 6/20\n",
      "4352/4352 [==============================] - 4s 928us/step - loss: 0.0150 - accuracy: 0.99750s - los\n",
      "Epoch 7/20\n",
      "4352/4352 [==============================] - 4s 917us/step - loss: 0.0148 - accuracy: 0.99750s - los\n",
      "Epoch 8/20\n",
      "4352/4352 [==============================] - 4s 860us/step - loss: 0.0127 - accuracy: 0.9977\n",
      "Epoch 9/20\n",
      "4352/4352 [==============================] - 4s 816us/step - loss: 0.0145 - accuracy: 0.99680s - loss: 0.0151 - \n",
      "Epoch 10/20\n",
      "4352/4352 [==============================] - 4s 845us/step - loss: 0.0120 - accuracy: 0.9975\n",
      "Epoch 11/20\n",
      "4352/4352 [==============================] - 4s 836us/step - loss: 0.0108 - accuracy: 0.9972\n",
      "Epoch 12/20\n",
      "4352/4352 [==============================] - 4s 846us/step - loss: 0.0120 - accuracy: 0.9975\n",
      "Epoch 13/20\n",
      "4352/4352 [==============================] - 4s 810us/step - loss: 0.0101 - accuracy: 0.9979\n",
      "Epoch 14/20\n",
      "4352/4352 [==============================] - 4s 822us/step - loss: 0.0103 - accuracy: 0.9972\n",
      "Epoch 15/20\n",
      "4352/4352 [==============================] - 4s 899us/step - loss: 0.0120 - accuracy: 0.9977\n",
      "Epoch 16/20\n",
      "4352/4352 [==============================] - 4s 883us/step - loss: 0.0091 - accuracy: 0.99750s - loss:\n",
      "Epoch 17/20\n",
      "4352/4352 [==============================] - 4s 851us/step - loss: 0.0099 - accuracy: 0.9975\n",
      "Epoch 18/20\n",
      "4352/4352 [==============================] - 4s 886us/step - loss: 0.0084 - accuracy: 0.9979\n",
      "Epoch 19/20\n",
      "4352/4352 [==============================] - 4s 931us/step - loss: 0.0084 - accuracy: 0.9975\n",
      "Epoch 20/20\n",
      "4352/4352 [==============================] - 4s 880us/step - loss: 0.0088 - accuracy: 0.9977\n"
     ]
    },
    {
     "data": {
      "text/plain": [
       "<keras.callbacks.History at 0x2eeec890280>"
      ]
     },
     "execution_count": 21,
     "metadata": {},
     "output_type": "execute_result"
    }
   ],
   "source": [
    "model.compile(loss='binary_crossentropy',\n",
    "              optimizer='adam',\n",
    "              metrics=['accuracy'])\n",
    "                   \n",
    "model.fit(X_train, y_train,epochs=20, batch_size=1, verbose=1)"
   ]
  },
  {
   "cell_type": "markdown",
   "id": "9c2391fc",
   "metadata": {},
   "source": [
    "## 7) Prever valores"
   ]
  },
  {
   "cell_type": "code",
   "execution_count": 22,
   "id": "7dd015fd",
   "metadata": {},
   "outputs": [],
   "source": [
    "y_pred = model.predict(X_test)"
   ]
  },
  {
   "cell_type": "code",
   "execution_count": 23,
   "id": "ca883277",
   "metadata": {},
   "outputs": [
    {
     "name": "stdout",
     "output_type": "stream",
     "text": [
      "[0 1 0 0 0 ]\n"
     ]
    }
   ],
   "source": [
    "resposta = ''\n",
    "for elemento in y_pred[:5]:\n",
    "    elemento = str(elemento.round(0))[1:2]\n",
    "    resposta += f'{elemento} '\n",
    "print(f'[{resposta}]')"
   ]
  },
  {
   "cell_type": "code",
   "execution_count": 24,
   "id": "545cc39b",
   "metadata": {},
   "outputs": [
    {
     "name": "stdout",
     "output_type": "stream",
     "text": [
      "[0 1 0 0 0]\n"
     ]
    }
   ],
   "source": [
    "print(y_test[:5])"
   ]
  },
  {
   "cell_type": "markdown",
   "id": "eb7ec62f",
   "metadata": {},
   "source": [
    "## 8) Avaliar modelo"
   ]
  },
  {
   "cell_type": "code",
   "execution_count": 25,
   "id": "da259fda",
   "metadata": {},
   "outputs": [
    {
     "name": "stdout",
     "output_type": "stream",
     "text": [
      "68/68 [==============================] - 0s 759us/step - loss: 0.0253 - accuracy: 0.9949\n",
      "[0.025294817984104156, 0.9948717951774597]\n"
     ]
    }
   ],
   "source": [
    "score = model.evaluate(X_test, y_test,verbose=1)\n",
    "\n",
    "print(score)"
   ]
  },
  {
   "cell_type": "code",
   "execution_count": 26,
   "id": "00e74dc7",
   "metadata": {},
   "outputs": [],
   "source": [
    "from sklearn.metrics import confusion_matrix, precision_score, recall_score, f1_score, cohen_kappa_score"
   ]
  },
  {
   "cell_type": "code",
   "execution_count": 27,
   "id": "efb989e2",
   "metadata": {},
   "outputs": [
    {
     "data": {
      "text/plain": [
       "2145"
      ]
     },
     "execution_count": 27,
     "metadata": {},
     "output_type": "execute_result"
    }
   ],
   "source": [
    "len(y_test)"
   ]
  },
  {
   "cell_type": "code",
   "execution_count": 28,
   "id": "21e951ba",
   "metadata": {},
   "outputs": [
    {
     "name": "stdout",
     "output_type": "stream",
     "text": [
      "2145\n"
     ]
    }
   ],
   "source": [
    "parcial = []\n",
    "for elemento in y_pred:\n",
    "    elemento = str(elemento.round(0))[1:2]\n",
    "    elemento = int(elemento)\n",
    "    parcial.append(elemento)\n",
    "print(len(parcial))\n",
    "y_predf = parcial"
   ]
  },
  {
   "cell_type": "code",
   "execution_count": 29,
   "id": "81f38775",
   "metadata": {},
   "outputs": [
    {
     "data": {
      "text/plain": [
       "array([[1587,    1],\n",
       "       [  10,  547]], dtype=int64)"
      ]
     },
     "execution_count": 29,
     "metadata": {},
     "output_type": "execute_result"
    }
   ],
   "source": [
    "confusion_matrix(y_test, y_predf)"
   ]
  },
  {
   "cell_type": "code",
   "execution_count": 30,
   "id": "82ade4e9",
   "metadata": {},
   "outputs": [
    {
     "data": {
      "text/plain": [
       "0.9981751824817519"
      ]
     },
     "execution_count": 30,
     "metadata": {},
     "output_type": "execute_result"
    }
   ],
   "source": [
    "precision_score(y_test, y_predf)"
   ]
  },
  {
   "cell_type": "code",
   "execution_count": 31,
   "id": "1f91bf4f",
   "metadata": {},
   "outputs": [
    {
     "data": {
      "text/plain": [
       "0.9820466786355476"
      ]
     },
     "execution_count": 31,
     "metadata": {},
     "output_type": "execute_result"
    }
   ],
   "source": [
    "recall_score(y_test, y_predf)"
   ]
  },
  {
   "cell_type": "code",
   "execution_count": 32,
   "id": "ea5013c2",
   "metadata": {},
   "outputs": [
    {
     "data": {
      "text/plain": [
       "0.9900452488687783"
      ]
     },
     "execution_count": 32,
     "metadata": {},
     "output_type": "execute_result"
    }
   ],
   "source": [
    "f1_score(y_test, y_predf)"
   ]
  },
  {
   "cell_type": "code",
   "execution_count": 33,
   "id": "70487585",
   "metadata": {},
   "outputs": [
    {
     "data": {
      "text/plain": [
       "0.9865918682906067"
      ]
     },
     "execution_count": 33,
     "metadata": {},
     "output_type": "execute_result"
    }
   ],
   "source": [
    "cohen_kappa_score(y_test, y_predf)"
   ]
  },
  {
   "cell_type": "markdown",
   "id": "e31c2ffd",
   "metadata": {},
   "source": [
    "## 9) Prevendo a qualidade do vinho"
   ]
  },
  {
   "cell_type": "code",
   "execution_count": 34,
   "id": "e3b02ea0",
   "metadata": {},
   "outputs": [],
   "source": [
    "# Isolate target labels\n",
    "y = wines.quality\n",
    "\n",
    "# Isolate data\n",
    "X = wines.drop('quality', axis=1) "
   ]
  },
  {
   "cell_type": "code",
   "execution_count": 35,
   "id": "136c037b",
   "metadata": {},
   "outputs": [],
   "source": [
    "# Scale the data with `StandardScaler`\n",
    "X = StandardScaler().fit_transform(X)"
   ]
  },
  {
   "cell_type": "markdown",
   "id": "52de6c74",
   "metadata": {},
   "source": [
    "## 10) Modelar Arquitetura de Redes Neurais"
   ]
  },
  {
   "cell_type": "code",
   "execution_count": 36,
   "id": "4974753a",
   "metadata": {},
   "outputs": [],
   "source": [
    "# Import `Sequential` from `keras.models`\n",
    "from keras.models import Sequential\n",
    "\n",
    "# Import `Dense` from `keras.layers`\n",
    "from keras.layers import Dense\n",
    "\n",
    "# Initialize the model\n",
    "model = Sequential()\n",
    "\n",
    "# Add input layer \n",
    "model.add(Dense(64, input_dim=12, activation='relu'))\n",
    "    \n",
    "# Add output layer \n",
    "model.add(Dense(1))"
   ]
  },
  {
   "cell_type": "markdown",
   "id": "b830e98c",
   "metadata": {},
   "source": [
    "## 11) Compilar o modelo, Encaixar os dados"
   ]
  },
  {
   "cell_type": "code",
   "execution_count": 39,
   "id": "8af72984",
   "metadata": {},
   "outputs": [
    {
     "name": "stdout",
     "output_type": "stream",
     "text": [
      "Epoch 1/10\n",
      "163/163 [==============================] - 1s 1ms/step - loss: 11.8694 - mae: 3.0083\n",
      "Epoch 2/10\n",
      "163/163 [==============================] - 0s 985us/step - loss: 1.4525 - mae: 0.9323\n",
      "Epoch 3/10\n",
      "163/163 [==============================] - 0s 1ms/step - loss: 0.9749 - mae: 0.7594\n",
      "Epoch 4/10\n",
      "163/163 [==============================] - 0s 1ms/step - loss: 0.7539 - mae: 0.6666\n",
      "Epoch 5/10\n",
      "163/163 [==============================] - 0s 1ms/step - loss: 0.6467 - mae: 0.6196\n",
      "Epoch 6/10\n",
      "163/163 [==============================] - 0s 1ms/step - loss: 0.5840 - mae: 0.5912\n",
      "Epoch 7/10\n",
      "163/163 [==============================] - 0s 2ms/step - loss: 0.5489 - mae: 0.5743\n",
      "Epoch 8/10\n",
      "163/163 [==============================] - 0s 936us/step - loss: 0.5305 - mae: 0.5654\n",
      "Epoch 9/10\n",
      "163/163 [==============================] - 0s 824us/step - loss: 0.5122 - mae: 0.5573\n",
      "Epoch 10/10\n",
      "163/163 [==============================] - 0s 2ms/step - loss: 0.5071 - mae: 0.5523\n",
      "Epoch 1/10\n",
      "163/163 [==============================] - 1s 960us/step - loss: 9.0931 - mae: 2.5057\n",
      "Epoch 2/10\n",
      "163/163 [==============================] - 0s 878us/step - loss: 1.3116 - mae: 0.8908\n",
      "Epoch 3/10\n",
      "163/163 [==============================] - 0s 968us/step - loss: 0.8457 - mae: 0.7143\n",
      "Epoch 4/10\n",
      "163/163 [==============================] - 0s 1ms/step - loss: 0.6601 - mae: 0.6291\n",
      "Epoch 5/10\n",
      "163/163 [==============================] - 0s 1ms/step - loss: 0.5770 - mae: 0.5900\n",
      "Epoch 6/10\n",
      "163/163 [==============================] - 0s 983us/step - loss: 0.5397 - mae: 0.5706\n",
      "Epoch 7/10\n",
      "163/163 [==============================] - 0s 1ms/step - loss: 0.5209 - mae: 0.5609\n",
      "Epoch 8/10\n",
      "163/163 [==============================] - 0s 949us/step - loss: 0.5070 - mae: 0.5530\n",
      "Epoch 9/10\n",
      "163/163 [==============================] - 0s 954us/step - loss: 0.4979 - mae: 0.5476\n",
      "Epoch 10/10\n",
      "163/163 [==============================] - 0s 868us/step - loss: 0.4920 - mae: 0.5462\n",
      "Epoch 1/10\n",
      "163/163 [==============================] - 0s 924us/step - loss: 12.3296 - mae: 3.0575\n",
      "Epoch 2/10\n",
      "163/163 [==============================] - 0s 895us/step - loss: 1.4517 - mae: 0.9356\n",
      "Epoch 3/10\n",
      "163/163 [==============================] - 0s 957us/step - loss: 0.9098 - mae: 0.7363\n",
      "Epoch 4/10\n",
      "163/163 [==============================] - 0s 917us/step - loss: 0.7014 - mae: 0.6467\n",
      "Epoch 5/10\n",
      "163/163 [==============================] - 0s 932us/step - loss: 0.6006 - mae: 0.6000\n",
      "Epoch 6/10\n",
      "163/163 [==============================] - 0s 966us/step - loss: 0.5517 - mae: 0.5775\n",
      "Epoch 7/10\n",
      "163/163 [==============================] - 0s 922us/step - loss: 0.5229 - mae: 0.5633\n",
      "Epoch 8/10\n",
      "163/163 [==============================] - 0s 907us/step - loss: 0.5065 - mae: 0.5536\n",
      "Epoch 9/10\n",
      "163/163 [==============================] - 0s 944us/step - loss: 0.4937 - mae: 0.5472\n",
      "Epoch 10/10\n",
      "163/163 [==============================] - 0s 925us/step - loss: 0.4851 - mae: 0.5441\n",
      "Epoch 1/10\n",
      "163/163 [==============================] - 0s 973us/step - loss: 13.6221 - mae: 3.2695\n",
      "Epoch 2/10\n",
      "163/163 [==============================] - 0s 1ms/step - loss: 1.6638 - mae: 1.0030\n",
      "Epoch 3/10\n",
      "163/163 [==============================] - 0s 930us/step - loss: 0.9912 - mae: 0.7701\n",
      "Epoch 4/10\n",
      "163/163 [==============================] - 0s 891us/step - loss: 0.7559 - mae: 0.6696\n",
      "Epoch 5/10\n",
      "163/163 [==============================] - 0s 896us/step - loss: 0.6359 - mae: 0.6140\n",
      "Epoch 6/10\n",
      "163/163 [==============================] - 0s 987us/step - loss: 0.5686 - mae: 0.5804\n",
      "Epoch 7/10\n",
      "163/163 [==============================] - 0s 981us/step - loss: 0.5357 - mae: 0.5662\n",
      "Epoch 8/10\n",
      "163/163 [==============================] - 0s 989us/step - loss: 0.5146 - mae: 0.5544\n",
      "Epoch 9/10\n",
      "163/163 [==============================] - 0s 904us/step - loss: 0.5034 - mae: 0.5495\n",
      "Epoch 10/10\n",
      "163/163 [==============================] - 0s 917us/step - loss: 0.4918 - mae: 0.5446\n",
      "Epoch 1/10\n",
      "163/163 [==============================] - 1s 951us/step - loss: 13.4696 - mae: 3.2392\n",
      "Epoch 2/10\n",
      "163/163 [==============================] - 0s 954us/step - loss: 1.5979 - mae: 0.9805\n",
      "Epoch 3/10\n",
      "163/163 [==============================] - 0s 921us/step - loss: 0.9598 - mae: 0.7549\n",
      "Epoch 4/10\n",
      "163/163 [==============================] - 0s 943us/step - loss: 0.7035 - mae: 0.6455\n",
      "Epoch 5/10\n",
      "163/163 [==============================] - 0s 980us/step - loss: 0.5936 - mae: 0.5949\n",
      "Epoch 6/10\n",
      "163/163 [==============================] - 0s 891us/step - loss: 0.5438 - mae: 0.5702\n",
      "Epoch 7/10\n",
      "163/163 [==============================] - 0s 923us/step - loss: 0.5186 - mae: 0.5587\n",
      "Epoch 8/10\n",
      "163/163 [==============================] - 0s 1ms/step - loss: 0.5053 - mae: 0.5514\n",
      "Epoch 9/10\n",
      "163/163 [==============================] - 0s 912us/step - loss: 0.4943 - mae: 0.5460\n",
      "Epoch 10/10\n",
      "163/163 [==============================] - 0s 922us/step - loss: 0.4863 - mae: 0.5431\n"
     ]
    }
   ],
   "source": [
    "import numpy as np\n",
    "from sklearn.model_selection import StratifiedKFold\n",
    "\n",
    "seed = 7\n",
    "np.random.seed(seed)\n",
    "\n",
    "kfold = StratifiedKFold(n_splits=5, shuffle=True, random_state=seed)\n",
    "for train, test in kfold.split(X, y):\n",
    "    model = Sequential()\n",
    "    model.add(Dense(64, input_dim=12, activation='relu'))\n",
    "    model.add(Dense(1))\n",
    "    model.compile(optimizer='rmsprop', loss='mse', metrics=['mae'])\n",
    "    model.fit(X[train], y[train], epochs=10, verbose=1)"
   ]
  },
  {
   "cell_type": "markdown",
   "id": "1a8fdcfd",
   "metadata": {},
   "source": [
    "## 12) Avaliar modelo"
   ]
  },
  {
   "cell_type": "code",
   "execution_count": 41,
   "id": "1ec4bfa0",
   "metadata": {},
   "outputs": [
    {
     "name": "stdout",
     "output_type": "stream",
     "text": [
      "0.5188167095184326\n"
     ]
    }
   ],
   "source": [
    "mse_value, mae_value = model.evaluate(X[test], y[test], verbose=0)\n",
    "\n",
    "print(mse_value)"
   ]
  },
  {
   "cell_type": "code",
   "execution_count": 42,
   "id": "5f6e1554",
   "metadata": {},
   "outputs": [
    {
     "name": "stdout",
     "output_type": "stream",
     "text": [
      "0.5626798272132874\n"
     ]
    }
   ],
   "source": [
    "print(mae_value)"
   ]
  },
  {
   "cell_type": "code",
   "execution_count": 46,
   "id": "254b08d8",
   "metadata": {},
   "outputs": [
    {
     "data": {
      "text/plain": [
       "0.9733243943580444"
      ]
     },
     "execution_count": 46,
     "metadata": {},
     "output_type": "execute_result"
    }
   ],
   "source": [
    "from sklearn.metrics import r2_score\n",
    "\n",
    "r2_score(y_test, y_predf)"
   ]
  },
  {
   "cell_type": "markdown",
   "id": "5e339405",
   "metadata": {},
   "source": [
    "## 13) Aperfeiçoamento de Modelo"
   ]
  },
  {
   "cell_type": "code",
   "execution_count": 47,
   "id": "5f5f4e00",
   "metadata": {},
   "outputs": [],
   "source": [
    "model = Sequential()\n",
    "model.add(Dense(64, input_dim=12, activation='relu'))\n",
    "model.add(Dense(64, activation='relu'))\n",
    "model.add(Dense(1))"
   ]
  },
  {
   "cell_type": "code",
   "execution_count": 48,
   "id": "f8208866",
   "metadata": {},
   "outputs": [],
   "source": [
    "model = Sequential()\n",
    "model.add(Dense(128, input_dim=12, activation='relu'))\n",
    "model.add(Dense(1))"
   ]
  },
  {
   "cell_type": "code",
   "execution_count": 51,
   "id": "eebd94a9",
   "metadata": {},
   "outputs": [
    {
     "name": "stderr",
     "output_type": "stream",
     "text": [
      "C:\\Users\\jpreg\\anaconda3\\lib\\site-packages\\keras\\optimizer_v2\\optimizer_v2.py:355: UserWarning: The `lr` argument is deprecated, use `learning_rate` instead.\n",
      "  warnings.warn(\n"
     ]
    }
   ],
   "source": [
    "from tensorflow.keras.optimizers import RMSprop\n",
    "rmsprop = RMSprop(lr=0.0001)\n",
    "model.compile(optimizer=rmsprop, loss='mse', metrics=['mae'])"
   ]
  },
  {
   "cell_type": "code",
   "execution_count": 54,
   "id": "aec61d39",
   "metadata": {},
   "outputs": [],
   "source": [
    "from tensorflow.keras.optimizers import SGD, RMSprop\n",
    "sgd=SGD(lr=0.1)\n",
    "model.compile(optimizer=sgd, loss='mse', metrics=['mae'])"
   ]
  }
 ],
 "metadata": {
  "kernelspec": {
   "display_name": "Python 3",
   "language": "python",
   "name": "python3"
  },
  "language_info": {
   "codemirror_mode": {
    "name": "ipython",
    "version": 3
   },
   "file_extension": ".py",
   "mimetype": "text/x-python",
   "name": "python",
   "nbconvert_exporter": "python",
   "pygments_lexer": "ipython3",
   "version": "3.8.11"
  }
 },
 "nbformat": 4,
 "nbformat_minor": 5
}
